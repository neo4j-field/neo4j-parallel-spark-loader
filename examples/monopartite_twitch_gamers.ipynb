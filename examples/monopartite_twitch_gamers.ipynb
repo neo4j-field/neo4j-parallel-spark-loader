{
  "cells": [
    {
      "cell_type": "code",
      "execution_count": 1,
      "metadata": {},
      "outputs": [
        {
          "data": {
            "application/vnd.livy.statement-meta+json": {
              "execution_finish_time": "2025-01-11T14:49:41.2174665Z",
              "execution_start_time": "2025-01-11T14:49:40.6965287Z",
              "livy_statement_state": "available",
              "normalized_state": "finished",
              "parent_msg_id": "20a7c7a6-49c7-4b5a-9f32-5b15f0e51019",
              "queued_time": "2025-01-11T14:48:11.9992599Z",
              "session_id": "18",
              "session_start_time": "2025-01-11T14:48:12.0369851Z",
              "spark_jobs": null,
              "spark_pool": "medium",
              "state": "finished",
              "statement_id": 2,
              "statement_ids": [
                2
              ]
            },
            "text/plain": [
              "StatementMeta(medium, 18, 2, Finished, Available, Finished)"
            ]
          },
          "metadata": {},
          "output_type": "display_data"
        }
      ],
      "source": [
        "from pyspark.sql import SparkSession\n",
        "import requests\n",
        "from io import BytesIO\n",
        "from zipfile import ZipFile\n",
        "from neo4j_parallel_spark_loader.monopartite import group_and_batch_spark_dataframe\n",
        "from neo4j_parallel_spark_loader import ingest_spark_dataframe\n"
      ]
    },
    {
      "cell_type": "markdown",
      "metadata": {
        "nteract": {
          "transient": {
            "deleting": false
          }
        }
      },
      "source": [
        "## Create spark session\n",
        "Update the values below for your environment"
      ]
    },
    {
      "cell_type": "code",
      "execution_count": 2,
      "metadata": {
        "jupyter": {
          "outputs_hidden": false,
          "source_hidden": false
        },
        "nteract": {
          "transient": {
            "deleting": false
          }
        }
      },
      "outputs": [
        {
          "data": {
            "application/vnd.livy.statement-meta+json": {
              "execution_finish_time": "2025-01-11T14:49:41.5117197Z",
              "execution_start_time": "2025-01-11T14:49:41.3585458Z",
              "livy_statement_state": "available",
              "normalized_state": "finished",
              "parent_msg_id": "769d32ac-fec7-4674-b91c-561e4424b35a",
              "queued_time": "2025-01-11T14:48:28.1869292Z",
              "session_id": "18",
              "session_start_time": null,
              "spark_jobs": null,
              "spark_pool": "medium",
              "state": "finished",
              "statement_id": 3,
              "statement_ids": [
                3
              ]
            },
            "text/plain": [
              "StatementMeta(medium, 18, 3, Finished, Available, Finished)"
            ]
          },
          "metadata": {},
          "output_type": "display_data"
        }
      ],
      "source": [
        "username = \"NEO4J_USER\"\n",
        "password = \"NEO4J_PASSWORD\"\n",
        "url = \"NEO4J_URL\"\n",
        "dbname = \"NEO4J_DATABASE\"\n",
        "spark_executor_count=5\n",
        "\n",
        "spark = (\n",
        "    SparkSession.builder\n",
        "    .appName(\"TwitchGamers\")\n",
        "    .config(\"neo4j.url\", url)\n",
        "    .config(\"url\", url)\n",
        "    .config(\"neo4j.authentication.basic.username\", username)\n",
        "    .config(\"neo4j.authentication.basic.password\", password)\n",
        "    .config(\"neo4j.database\", dbname)\n",
        "    .getOrCreate()\n",
        ")"
      ]
    },
    {
      "cell_type": "markdown",
      "metadata": {
        "nteract": {
          "transient": {
            "deleting": false
          }
        }
      },
      "source": [
        "## Download data"
      ]
    },
    {
      "cell_type": "code",
      "execution_count": 3,
      "metadata": {
        "jupyter": {
          "outputs_hidden": false,
          "source_hidden": false
        },
        "nteract": {
          "transient": {
            "deleting": false
          }
        }
      },
      "outputs": [
        {
          "data": {
            "application/vnd.livy.statement-meta+json": {
              "execution_finish_time": "2025-01-11T14:50:23.0615084Z",
              "execution_start_time": "2025-01-11T14:49:55.5797104Z",
              "livy_statement_state": "available",
              "normalized_state": "finished",
              "parent_msg_id": "2d565aae-42f2-4029-a551-702623320475",
              "queued_time": "2025-01-11T14:49:55.4616629Z",
              "session_id": "18",
              "session_start_time": null,
              "spark_jobs": null,
              "spark_pool": "medium",
              "state": "finished",
              "statement_id": 4,
              "statement_ids": [
                4
              ]
            },
            "text/plain": [
              "StatementMeta(medium, 18, 4, Finished, Available, Finished)"
            ]
          },
          "metadata": {},
          "output_type": "display_data"
        },
        {
          "name": "stdout",
          "output_type": "stream",
          "text": [
            "+------------+------------+\n",
            "|numeric_id_1|numeric_id_2|\n",
            "+------------+------------+\n",
            "|       98343|      141493|\n",
            "|       98343|       58736|\n",
            "|       98343|      140703|\n",
            "|       98343|      151401|\n",
            "|       98343|      157118|\n",
            "|       98343|      125430|\n",
            "|       98343|        3635|\n",
            "|       98343|         495|\n",
            "|       98343|      116648|\n",
            "|       98343|        1679|\n",
            "|       98343|      123861|\n",
            "|       98343|       89631|\n",
            "|       98343|      113417|\n",
            "|       98343|      145281|\n",
            "|       98343|       10408|\n",
            "|       98343|        3181|\n",
            "|       98343|       40675|\n",
            "|       98343|       95914|\n",
            "|       98343|      155127|\n",
            "|       98343|      124827|\n",
            "+------------+------------+\n",
            "only showing top 20 rows\n",
            "\n",
            "root\n",
            " |-- numeric_id_1: string (nullable = true)\n",
            " |-- numeric_id_2: string (nullable = true)\n",
            "\n"
          ]
        }
      ],
      "source": [
        "# Download the ZIP file\n",
        "response = requests.get(\"https://snap.stanford.edu/data/twitch_gamers.zip\")\n",
        "zip_file = ZipFile(BytesIO(response.content))\n",
        "\n",
        "# Read the CSV file directly from the ZIP\n",
        "with zip_file.open(\"large_twitch_edges.csv\") as file:\n",
        "    # Convert to string buffer for Spark to read\n",
        "    content = file.read().decode('utf-8')\n",
        "    \n",
        "    # Create RDD from content\n",
        "    rdd = spark.sparkContext.parallelize(content.splitlines())\n",
        "    \n",
        "    # Convert RDD to DataFrame\n",
        "    twitch_df = spark.read.csv(rdd, header=True)\n",
        "\n",
        "# Now df is your Spark DataFrame containing the data\n",
        "# You can verify the data\n",
        "twitch_df.show()\n",
        "twitch_df.printSchema()"
      ]
    },
    {
      "cell_type": "code",
      "execution_count": 5,
      "metadata": {
        "jupyter": {
          "outputs_hidden": false,
          "source_hidden": false
        },
        "nteract": {
          "transient": {
            "deleting": false
          }
        }
      },
      "outputs": [
        {
          "data": {
            "application/vnd.livy.statement-meta+json": {
              "execution_finish_time": "2025-01-11T14:50:40.3463803Z",
              "execution_start_time": "2025-01-11T14:50:31.2930721Z",
              "livy_statement_state": "available",
              "normalized_state": "finished",
              "parent_msg_id": "ec3dba3e-335f-4a2b-8f13-7f034153d961",
              "queued_time": "2025-01-11T14:50:31.1556519Z",
              "session_id": "18",
              "session_start_time": null,
              "spark_jobs": null,
              "spark_pool": "medium",
              "state": "finished",
              "statement_id": 6,
              "statement_ids": [
                6
              ]
            },
            "text/plain": [
              "StatementMeta(medium, 18, 6, Finished, Available, Finished)"
            ]
          },
          "metadata": {},
          "output_type": "display_data"
        },
        {
          "data": {
            "text/plain": [
              "6797557"
            ]
          },
          "execution_count": 13,
          "metadata": {},
          "output_type": "execute_result"
        }
      ],
      "source": [
        "twitch_df.count()"
      ]
    },
    {
      "cell_type": "markdown",
      "metadata": {
        "nteract": {
          "transient": {
            "deleting": false
          }
        }
      },
      "source": [
        "## Load nodes"
      ]
    },
    {
      "cell_type": "code",
      "execution_count": 8,
      "metadata": {
        "jupyter": {
          "outputs_hidden": false,
          "source_hidden": false
        },
        "nteract": {
          "transient": {
            "deleting": false
          }
        }
      },
      "outputs": [
        {
          "data": {
            "application/vnd.livy.statement-meta+json": {
              "execution_finish_time": "2025-01-11T14:51:48.9139321Z",
              "execution_start_time": "2025-01-11T14:51:42.0394455Z",
              "livy_statement_state": "available",
              "normalized_state": "finished",
              "parent_msg_id": "5886e1ba-297a-42b5-8d17-7d141e9a261f",
              "queued_time": "2025-01-11T14:51:41.8997493Z",
              "session_id": "18",
              "session_start_time": null,
              "spark_jobs": null,
              "spark_pool": "medium",
              "state": "finished",
              "statement_id": 9,
              "statement_ids": [
                9
              ]
            },
            "text/plain": [
              "StatementMeta(medium, 18, 9, Finished, Available, Finished)"
            ]
          },
          "metadata": {},
          "output_type": "display_data"
        },
        {
          "data": {
            "text/plain": [
              "168114"
            ]
          },
          "execution_count": 19,
          "metadata": {},
          "output_type": "execute_result"
        }
      ],
      "source": [
        "node_df = (twitch_df\n",
        "            .select('numeric_id_1')\n",
        "            .withColumnRenamed('numeric_id_1', 'nodeId')\n",
        "            .union(\n",
        "                twitch_df\n",
        "                .select('numeric_id_2')\n",
        "                .withColumnRenamed('numeric_id_2', 'nodeId'))\n",
        "                .dropDuplicates())\n",
        "node_df.count()"
      ]
    },
    {
      "cell_type": "code",
      "execution_count": 10,
      "metadata": {
        "jupyter": {
          "outputs_hidden": false,
          "source_hidden": false
        },
        "nteract": {
          "transient": {
            "deleting": false
          }
        }
      },
      "outputs": [
        {
          "data": {
            "application/vnd.livy.statement-meta+json": {
              "execution_finish_time": "2025-01-11T14:52:25.8382593Z",
              "execution_start_time": "2025-01-11T14:52:15.2936378Z",
              "livy_statement_state": "available",
              "normalized_state": "finished",
              "parent_msg_id": "00844db7-d433-41f6-bb3a-6d30eed6a6d0",
              "queued_time": "2025-01-11T14:52:15.1638534Z",
              "session_id": "18",
              "session_start_time": null,
              "spark_jobs": null,
              "spark_pool": "medium",
              "state": "finished",
              "statement_id": 11,
              "statement_ids": [
                11
              ]
            },
            "text/plain": [
              "StatementMeta(medium, 18, 11, Finished, Available, Finished)"
            ]
          },
          "metadata": {},
          "output_type": "display_data"
        }
      ],
      "source": [
        "(\n",
        "    node_df.write\n",
        "    .format(\"org.neo4j.spark.DataSource\")\n",
        "    .mode(\"Overwrite\")\n",
        "    .option(\"labels\", \":Node\")\n",
        "    .option(\"node.keys\", \"nodeId:id\")\n",
        "    .option(\"schema.optimization.node.keys\", \"KEY\")\n",
        "    .save()\n",
        ")"
      ]
    },
    {
      "cell_type": "markdown",
      "metadata": {
        "nteract": {
          "transient": {
            "deleting": false
          }
        }
      },
      "source": [
        "## Load rels"
      ]
    },
    {
      "cell_type": "code",
      "execution_count": 13,
      "metadata": {
        "jupyter": {
          "outputs_hidden": false,
          "source_hidden": false
        },
        "nteract": {
          "transient": {
            "deleting": false
          }
        }
      },
      "outputs": [
        {
          "data": {
            "application/vnd.livy.statement-meta+json": {
              "execution_finish_time": "2025-01-11T14:55:23.0498345Z",
              "execution_start_time": "2025-01-11T14:55:00.1139093Z",
              "livy_statement_state": "available",
              "normalized_state": "finished",
              "parent_msg_id": "93db93ce-ba8c-4141-9062-ba6a9c681008",
              "queued_time": "2025-01-11T14:55:00.0018896Z",
              "session_id": "18",
              "session_start_time": null,
              "spark_jobs": null,
              "spark_pool": "medium",
              "state": "finished",
              "statement_id": 14,
              "statement_ids": [
                14
              ]
            },
            "text/plain": [
              "StatementMeta(medium, 18, 14, Finished, Available, Finished)"
            ]
          },
          "metadata": {},
          "output_type": "display_data"
        }
      ],
      "source": [
        "rel_batch_df = group_and_batch_spark_dataframe(spark_dataframe=twitch_df, \n",
        "                                               source_col='numeric_id_1', \n",
        "                                               target_col='numeric_id_2', \n",
        "                                               num_groups=(2 * spark_executor_count)-1)"
      ]
    },
    {
      "cell_type": "code",
      "execution_count": 14,
      "metadata": {
        "jupyter": {
          "outputs_hidden": false,
          "source_hidden": false
        },
        "nteract": {
          "transient": {
            "deleting": false
          }
        }
      },
      "outputs": [
        {
          "data": {
            "application/vnd.livy.statement-meta+json": {
              "execution_finish_time": "2025-01-11T14:56:52.1245437Z",
              "execution_start_time": "2025-01-11T14:56:48.2089393Z",
              "livy_statement_state": "available",
              "normalized_state": "finished",
              "parent_msg_id": "6afd2da0-a917-4ac5-b24e-c0f609582ca7",
              "queued_time": "2025-01-11T14:56:48.0701321Z",
              "session_id": "18",
              "session_start_time": null,
              "spark_jobs": null,
              "spark_pool": "medium",
              "state": "finished",
              "statement_id": 15,
              "statement_ids": [
                15
              ]
            },
            "text/plain": [
              "StatementMeta(medium, 18, 15, Finished, Available, Finished)"
            ]
          },
          "metadata": {},
          "output_type": "display_data"
        },
        {
          "name": "stdout",
          "output_type": "stream",
          "text": [
            "+------------+------------+------+-----+\n",
            "|numeric_id_1|numeric_id_2| group|batch|\n",
            "+------------+------------+------+-----+\n",
            "|      111207|      159752|1 -- 5|    3|\n",
            "|      111207|      145773|1 -- 5|    3|\n",
            "|      111207|       42059|1 -- 6|    8|\n",
            "|      111207|       29852|1 -- 7|    4|\n",
            "|      111207|       75443|1 -- 1|    1|\n",
            "|      111207|       12216|1 -- 2|    6|\n",
            "|      111207|      123168|0 -- 1|    5|\n",
            "|      111207|       40798|1 -- 1|    1|\n",
            "|      111207|       52070|0 -- 1|    5|\n",
            "|      111207|      118432|1 -- 3|    2|\n",
            "|      111207|      140508|1 -- 2|    6|\n",
            "|      111207|       78550|1 -- 8|    0|\n",
            "|      111207|       76995|1 -- 2|    6|\n",
            "|      111207|       73856|1 -- 3|    2|\n",
            "|      111207|      154308|1 -- 2|    6|\n",
            "|      111207|      129693|0 -- 1|    5|\n",
            "|      111207|       63938|1 -- 1|    1|\n",
            "|      111207|       21381|1 -- 4|    7|\n",
            "|      111207|       28488|1 -- 2|    6|\n",
            "|      111207|       13564|1 -- 1|    1|\n",
            "+------------+------------+------+-----+\n",
            "only showing top 20 rows\n",
            "\n"
          ]
        }
      ],
      "source": [
        "rel_batch_df.show()"
      ]
    },
    {
      "cell_type": "code",
      "execution_count": 15,
      "metadata": {
        "jupyter": {
          "outputs_hidden": false,
          "source_hidden": false
        },
        "nteract": {
          "transient": {
            "deleting": false
          }
        }
      },
      "outputs": [
        {
          "data": {
            "application/vnd.livy.statement-meta+json": {
              "execution_finish_time": "2025-01-11T15:01:54.9500155Z",
              "execution_start_time": "2025-01-11T14:57:24.5030447Z",
              "livy_statement_state": "available",
              "normalized_state": "finished",
              "parent_msg_id": "ecdaef15-dc48-48f2-b23b-b53daa35827f",
              "queued_time": "2025-01-11T14:57:24.3876952Z",
              "session_id": "18",
              "session_start_time": null,
              "spark_jobs": null,
              "spark_pool": "medium",
              "state": "finished",
              "statement_id": 16,
              "statement_ids": [
                16
              ]
            },
            "text/plain": [
              "StatementMeta(medium, 18, 16, Finished, Available, Finished)"
            ]
          },
          "metadata": {},
          "output_type": "display_data"
        }
      ],
      "source": [
        "query = \"\"\"\n",
        "    MATCH(source:Node {id: event.numeric_id_1})\n",
        "    MATCH(target:Node {id: event.numeric_id_2})\n",
        "    MERGE(source)-[r:RELATES_TO]->(target)\n",
        "    \"\"\"\n",
        "\n",
        "ingest_spark_dataframe(\n",
        "    spark_dataframe=rel_batch_df,\n",
        "    save_mode= \"Overwrite\",\n",
        "    options={\"query\":query}\n",
        ")"
      ]
    },
    {
      "cell_type": "markdown",
      "metadata": {
        "nteract": {
          "transient": {
            "deleting": false
          }
        }
      },
      "source": [
        "## Delete rels"
      ]
    },
    {
      "cell_type": "code",
      "execution_count": 19,
      "metadata": {
        "jupyter": {
          "outputs_hidden": false,
          "source_hidden": false
        },
        "nteract": {
          "transient": {
            "deleting": false
          }
        }
      },
      "outputs": [
        {
          "data": {
            "application/vnd.livy.statement-meta+json": {
              "execution_finish_time": "2025-01-11T15:03:46.0902216Z",
              "execution_start_time": "2025-01-11T15:03:43.2960105Z",
              "livy_statement_state": "available",
              "normalized_state": "finished",
              "parent_msg_id": "f7cb9b0e-b957-4dae-93d6-0c93f3846fe5",
              "queued_time": "2025-01-11T15:03:43.1740342Z",
              "session_id": "18",
              "session_start_time": null,
              "spark_jobs": null,
              "spark_pool": "medium",
              "state": "finished",
              "statement_id": 20,
              "statement_ids": [
                20
              ]
            },
            "text/plain": [
              "StatementMeta(medium, 18, 20, Finished, Available, Finished)"
            ]
          },
          "metadata": {},
          "output_type": "display_data"
        },
        {
          "name": "stdout",
          "output_type": "stream",
          "text": [
            "6797557 680\n"
          ]
        }
      ],
      "source": [
        "rel_count = twitch_df.count()\n",
        "batch_count = rel_count // 10000 + 1\n",
        "print(rel_count, batch_count)"
      ]
    },
    {
      "cell_type": "code",
      "execution_count": 24,
      "metadata": {
        "jupyter": {
          "outputs_hidden": false,
          "source_hidden": false
        },
        "nteract": {
          "transient": {
            "deleting": false
          }
        }
      },
      "outputs": [
        {
          "data": {
            "application/vnd.livy.statement-meta+json": {
              "execution_finish_time": "2025-01-11T15:09:07.318409Z",
              "execution_start_time": "2025-01-11T15:09:06.8032688Z",
              "livy_statement_state": "available",
              "normalized_state": "finished",
              "parent_msg_id": "be93cdfa-06c6-4d6e-bc5a-0146f77d1cd1",
              "queued_time": "2025-01-11T15:09:06.6770525Z",
              "session_id": "18",
              "session_start_time": null,
              "spark_jobs": null,
              "spark_pool": "medium",
              "state": "finished",
              "statement_id": 25,
              "statement_ids": [
                25
              ]
            },
            "text/plain": [
              "StatementMeta(medium, 18, 25, Finished, Available, Finished)"
            ]
          },
          "metadata": {},
          "output_type": "display_data"
        },
        {
          "name": "stdout",
          "output_type": "stream",
          "text": [
            "680\n"
          ]
        }
      ],
      "source": [
        "from pyspark.sql.functions import lit\n",
        "del_df = (spark.range(batch_count)\n",
        "    .select(lit(1).alias(\"id\")))\n",
        "print(del_df.count())"
      ]
    },
    {
      "cell_type": "code",
      "execution_count": 26,
      "metadata": {
        "jupyter": {
          "outputs_hidden": false,
          "source_hidden": false
        },
        "nteract": {
          "transient": {
            "deleting": false
          }
        }
      },
      "outputs": [
        {
          "data": {
            "application/vnd.livy.statement-meta+json": {
              "execution_finish_time": "2025-01-11T15:16:01.4072209Z",
              "execution_start_time": "2025-01-11T15:10:19.9712186Z",
              "livy_statement_state": "available",
              "normalized_state": "finished",
              "parent_msg_id": "457a965b-b574-4751-85c2-dc2b43e2c3a2",
              "queued_time": "2025-01-11T15:10:19.851916Z",
              "session_id": "18",
              "session_start_time": null,
              "spark_jobs": null,
              "spark_pool": "medium",
              "state": "finished",
              "statement_id": 27,
              "statement_ids": [
                27
              ]
            },
            "text/plain": [
              "StatementMeta(medium, 18, 27, Finished, Available, Finished)"
            ]
          },
          "metadata": {},
          "output_type": "display_data"
        }
      ],
      "source": [
        "del_query = \"MATCH ()-[r:RELATES_TO]->() WITH r LIMIT 10000 DELETE r\"\n",
        "\n",
        "(\n",
        "    del_df.coalesce(1).write\n",
        "    .format(\"org.neo4j.spark.DataSource\")\n",
        "    .mode(\"Overwrite\")\n",
        "    .option(\"query\", del_query)\n",
        "    .option(\"batch.size\", 1)\n",
        "    .save()\n",
        ")"
      ]
    },
    {
      "cell_type": "markdown",
      "metadata": {
        "nteract": {
          "transient": {
            "deleting": false
          }
        }
      },
      "source": [
        "## Load rels serially"
      ]
    },
    {
      "cell_type": "code",
      "execution_count": 27,
      "metadata": {
        "jupyter": {
          "outputs_hidden": false,
          "source_hidden": false
        },
        "nteract": {
          "transient": {
            "deleting": false
          }
        }
      },
      "outputs": [
        {
          "data": {
            "application/vnd.livy.statement-meta+json": {
              "execution_finish_time": "2025-01-11T15:32:11.4027857Z",
              "execution_start_time": "2025-01-11T15:22:59.3132605Z",
              "livy_statement_state": "available",
              "normalized_state": "finished",
              "parent_msg_id": "d14c3ab9-8c1b-4d65-a66e-ba784a7c620e",
              "queued_time": "2025-01-11T15:22:59.1886902Z",
              "session_id": "18",
              "session_start_time": null,
              "spark_jobs": null,
              "spark_pool": "medium",
              "state": "finished",
              "statement_id": 28,
              "statement_ids": [
                28
              ]
            },
            "text/plain": [
              "StatementMeta(medium, 18, 28, Finished, Available, Finished)"
            ]
          },
          "metadata": {},
          "output_type": "display_data"
        }
      ],
      "source": [
        "(\n",
        "    twitch_df.coalesce(1).write\n",
        "    .format(\"org.neo4j.spark.DataSource\")\n",
        "    .mode(\"Overwrite\")\n",
        "    .option(\"query\", query)\n",
        "    .save()\n",
        ")"
      ]
    }
  ],
  "metadata": {
    "description": null,
    "kernelspec": {
      "display_name": "python",
      "name": "synapse_pyspark"
    },
    "language_info": {
      "name": "python"
    },
    "save_output": true,
    "synapse_widget": {
      "state": {},
      "version": "0.1"
    }
  },
  "nbformat": 4,
  "nbformat_minor": 2
}
