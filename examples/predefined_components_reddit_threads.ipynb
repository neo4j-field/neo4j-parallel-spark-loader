{
  "cells": [
    {
      "cell_type": "code",
      "execution_count": 10,
      "metadata": {},
      "outputs": [
        {
          "data": {
            "application/vnd.livy.statement-meta+json": {
              "execution_finish_time": "2025-01-11T22:00:42.4235235Z",
              "execution_start_time": "2025-01-11T22:00:42.2764302Z",
              "livy_statement_state": "available",
              "normalized_state": "finished",
              "parent_msg_id": "04a8f60b-046e-4d2e-956f-a81a40a47cf5",
              "queued_time": "2025-01-11T22:00:42.1460445Z",
              "session_id": "26",
              "session_start_time": null,
              "spark_jobs": null,
              "spark_pool": "medium",
              "state": "finished",
              "statement_id": 9,
              "statement_ids": [
                9
              ]
            },
            "text/plain": [
              "StatementMeta(medium, 26, 9, Finished, Available, Finished)"
            ]
          },
          "metadata": {},
          "output_type": "display_data"
        }
      ],
      "source": [
        "from pyspark.sql import SparkSession\n",
        "from pyspark.sql.types import StructType, StructField, IntegerType\n",
        "import requests\n",
        "from io import BytesIO\n",
        "from zipfile import ZipFile\n",
        "from neo4j_parallel_spark_loader.predefined_components import group_and_batch_spark_dataframe\n",
        "from neo4j_parallel_spark_loader import ingest_spark_dataframe\n",
        "import json"
      ]
    },
    {
      "cell_type": "markdown",
      "metadata": {
        "nteract": {
          "transient": {
            "deleting": false
          }
        }
      },
      "source": [
        "## Create spark session\n",
        "Update the values below for your environment"
      ]
    },
    {
      "cell_type": "code",
      "execution_count": 4,
      "metadata": {
        "jupyter": {
          "outputs_hidden": false,
          "source_hidden": false
        },
        "nteract": {
          "transient": {
            "deleting": false
          }
        }
      },
      "outputs": [
        {
          "data": {
            "application/vnd.livy.statement-meta+json": {
              "execution_finish_time": "2025-01-11T21:44:18.5177192Z",
              "execution_start_time": "2025-01-11T21:44:18.3725338Z",
              "livy_statement_state": "available",
              "normalized_state": "finished",
              "parent_msg_id": "da70e421-13d6-4887-bbb3-d39f40e87b24",
              "queued_time": "2025-01-11T21:44:18.2491489Z",
              "session_id": "26",
              "session_start_time": null,
              "spark_jobs": null,
              "spark_pool": "medium",
              "state": "finished",
              "statement_id": 3,
              "statement_ids": [
                3
              ]
            },
            "text/plain": [
              "StatementMeta(medium, 26, 3, Finished, Available, Finished)"
            ]
          },
          "metadata": {},
          "output_type": "display_data"
        }
      ],
      "source": [
        "username = \"NEO4J_USER\"\n",
        "password = \"NEO4J_PASSWORD\"\n",
        "url = \"NEO4J_URL\"\n",
        "dbname = \"NEO4J_DATABASE\"\n",
        "spark_executor_count=5\n",
        "\n",
        "spark = (\n",
        "    SparkSession.builder\n",
        "    .appName(\"ReditThreads\")\n",
        "    .config(\"neo4j.url\", url)\n",
        "    .config(\"url\", url)\n",
        "    .config(\"neo4j.authentication.basic.username\", username)\n",
        "    .config(\"neo4j.authentication.basic.password\", \"i2_dYwwAMKKqp7tokHoscvNJbBBn1snAZKX0uA_gffA\")\n",
        "    .config(\"neo4j.database\", dbname)\n",
        "    .getOrCreate()\n",
        ")"
      ]
    },
    {
      "cell_type": "markdown",
      "metadata": {
        "nteract": {
          "transient": {
            "deleting": false
          }
        }
      },
      "source": [
        "## Download data"
      ]
    },
    {
      "cell_type": "code",
      "execution_count": 46,
      "metadata": {
        "jupyter": {
          "outputs_hidden": false,
          "source_hidden": false
        },
        "nteract": {
          "transient": {
            "deleting": false
          }
        }
      },
      "outputs": [
        {
          "data": {
            "application/vnd.livy.statement-meta+json": {
              "execution_finish_time": "2025-01-11T23:01:14.2805724Z",
              "execution_start_time": "2025-01-11T23:00:36.4081869Z",
              "livy_statement_state": "available",
              "normalized_state": "finished",
              "parent_msg_id": "35d72265-fbd4-4fa3-91c6-238709bf8ad0",
              "queued_time": "2025-01-11T23:00:35.3496326Z",
              "session_id": "26",
              "session_start_time": null,
              "spark_jobs": null,
              "spark_pool": "medium",
              "state": "finished",
              "statement_id": 45,
              "statement_ids": [
                45
              ]
            },
            "text/plain": [
              "StatementMeta(medium, 26, 45, Finished, Available, Finished)"
            ]
          },
          "metadata": {},
          "output_type": "display_data"
        },
        {
          "name": "stdout",
          "output_type": "stream",
          "text": [
            "+--------+---------+---------+\n",
            "|graph_id|source_id|target_id|\n",
            "+--------+---------+---------+\n",
            "|       0|        0|        2|\n",
            "|       0|        1|        5|\n",
            "|       0|        2|        4|\n",
            "|       0|        2|        5|\n",
            "|       0|        2|        6|\n",
            "|       0|        2|        7|\n",
            "|       0|        2|        8|\n",
            "|       0|        2|        9|\n",
            "|       0|        2|       10|\n",
            "|       0|        3|        8|\n",
            "|       1|        0|        3|\n",
            "|       1|        0|        6|\n",
            "|       1|        1|        8|\n",
            "|       1|        2|        8|\n",
            "|       1|        4|        8|\n",
            "|       1|        5|        8|\n",
            "|       1|        6|        8|\n",
            "|       1|        7|        8|\n",
            "|       1|        8|        9|\n",
            "|       1|        8|       10|\n",
            "+--------+---------+---------+\n",
            "only showing top 20 rows\n",
            "\n"
          ]
        }
      ],
      "source": [
        "schema = StructType([\n",
        "    StructField(\"graph_id\", IntegerType(), True),\n",
        "    StructField(\"source_id\", IntegerType(), True),\n",
        "    StructField(\"target_id\", IntegerType(), True)\n",
        "])\n",
        "\n",
        "# Download and read the zip file content\n",
        "response = requests.get(\"https://snap.stanford.edu/data/reddit_threads.zip\")\n",
        "zip_file = ZipFile(BytesIO(response.content))\n",
        "\n",
        "# Read the JSON file content from the zip\n",
        "with zip_file.open(\"reddit_threads/reddit_edges.json\") as file:\n",
        "    # Parse JSON content\n",
        "    data = json.loads(file.read().decode('utf-8'))\n",
        "    flattened = [[int(t[0]), int(sublist[0]), int(sublist[1])] for t in data.items() for sublist in t[1]]\n",
        "    \n",
        "    # Create DataFrame from parsed JSON\n",
        "    reddit_df = spark.createDataFrame(flattened, schema=schema)\n",
        "\n",
        "# Show the result\n",
        "reddit_df.show()"
      ]
    },
    {
      "cell_type": "code",
      "execution_count": 47,
      "metadata": {
        "jupyter": {
          "outputs_hidden": false,
          "source_hidden": false
        },
        "nteract": {
          "transient": {
            "deleting": false
          }
        }
      },
      "outputs": [
        {
          "data": {
            "application/vnd.livy.statement-meta+json": {
              "execution_finish_time": "2025-01-11T23:01:16.2592288Z",
              "execution_start_time": "2025-01-11T23:01:14.4142013Z",
              "livy_statement_state": "available",
              "normalized_state": "finished",
              "parent_msg_id": "0eb527b1-e56e-4a60-8fe6-9e4419af89bd",
              "queued_time": "2025-01-11T23:00:43.7342871Z",
              "session_id": "26",
              "session_start_time": null,
              "spark_jobs": null,
              "spark_pool": "medium",
              "state": "finished",
              "statement_id": 46,
              "statement_ids": [
                46
              ]
            },
            "text/plain": [
              "StatementMeta(medium, 26, 46, Finished, Available, Finished)"
            ]
          },
          "metadata": {},
          "output_type": "display_data"
        },
        {
          "data": {
            "text/plain": [
              "5074915"
            ]
          },
          "execution_count": 93,
          "metadata": {},
          "output_type": "execute_result"
        }
      ],
      "source": [
        "reddit_df.count()"
      ]
    },
    {
      "cell_type": "markdown",
      "metadata": {
        "nteract": {
          "transient": {
            "deleting": false
          }
        }
      },
      "source": [
        "## Load nodes"
      ]
    },
    {
      "cell_type": "code",
      "execution_count": 65,
      "metadata": {
        "jupyter": {
          "outputs_hidden": false,
          "source_hidden": false
        },
        "nteract": {
          "transient": {
            "deleting": false
          }
        }
      },
      "outputs": [
        {
          "data": {
            "application/vnd.livy.statement-meta+json": {
              "execution_finish_time": "2025-01-11T23:23:27.639813Z",
              "execution_start_time": "2025-01-11T23:23:23.682035Z",
              "livy_statement_state": "available",
              "normalized_state": "finished",
              "parent_msg_id": "7b8ad8aa-c3b2-4ccf-b0f3-e63f1149bd63",
              "queued_time": "2025-01-11T23:23:23.5534729Z",
              "session_id": "26",
              "session_start_time": null,
              "spark_jobs": null,
              "spark_pool": "medium",
              "state": "finished",
              "statement_id": 64,
              "statement_ids": [
                64
              ]
            },
            "text/plain": [
              "StatementMeta(medium, 26, 64, Finished, Available, Finished)"
            ]
          },
          "metadata": {},
          "output_type": "display_data"
        },
        {
          "data": {
            "text/plain": [
              "4859280"
            ]
          },
          "execution_count": 129,
          "metadata": {},
          "output_type": "execute_result"
        }
      ],
      "source": [
        "node_df = (reddit_df\n",
        "            .select('graph_id', 'source_id')\n",
        "            .withColumnRenamed('source_id', 'nodeId')\n",
        "            .union(\n",
        "                reddit_df\n",
        "                .select('graph_id', 'target_id')\n",
        "                .withColumnRenamed('target_id', 'nodeId'))\n",
        "                .dropDuplicates())\n",
        "node_df.count()"
      ]
    },
    {
      "cell_type": "code",
      "execution_count": 66,
      "metadata": {
        "jupyter": {
          "outputs_hidden": false,
          "source_hidden": false
        },
        "nteract": {
          "transient": {
            "deleting": false
          }
        }
      },
      "outputs": [
        {
          "data": {
            "application/vnd.livy.statement-meta+json": {
              "execution_finish_time": "2025-01-11T23:26:11.8251813Z",
              "execution_start_time": "2025-01-11T23:25:10.4645703Z",
              "livy_statement_state": "available",
              "normalized_state": "finished",
              "parent_msg_id": "8ebd5d91-2211-40f6-955b-c892e42b18ed",
              "queued_time": "2025-01-11T23:25:10.3417526Z",
              "session_id": "26",
              "session_start_time": null,
              "spark_jobs": null,
              "spark_pool": "medium",
              "state": "finished",
              "statement_id": 65,
              "statement_ids": [
                65
              ]
            },
            "text/plain": [
              "StatementMeta(medium, 26, 65, Finished, Available, Finished)"
            ]
          },
          "metadata": {},
          "output_type": "display_data"
        }
      ],
      "source": [
        "(\n",
        "    node_df.write\n",
        "    .format(\"org.neo4j.spark.DataSource\")\n",
        "    .mode(\"Overwrite\")\n",
        "    .option(\"labels\", \":Node\")\n",
        "    .option(\"node.keys\", \"graph_id:graphId,nodeId:nodeId\")\n",
        "    .option(\"schema.optimization.node.keys\", \"KEY\")\n",
        "    .save()\n",
        ")"
      ]
    },
    {
      "cell_type": "markdown",
      "metadata": {
        "nteract": {
          "transient": {
            "deleting": false
          }
        }
      },
      "source": [
        "## Load rels"
      ]
    },
    {
      "cell_type": "code",
      "execution_count": 69,
      "metadata": {
        "jupyter": {
          "outputs_hidden": false,
          "source_hidden": false
        },
        "nteract": {
          "transient": {
            "deleting": false
          }
        }
      },
      "outputs": [
        {
          "data": {
            "application/vnd.livy.statement-meta+json": {
              "execution_finish_time": "2025-01-11T23:26:40.0326641Z",
              "execution_start_time": "2025-01-11T23:26:29.4493665Z",
              "livy_statement_state": "available",
              "normalized_state": "finished",
              "parent_msg_id": "e541da32-90b4-479c-a59b-4f959cca62bb",
              "queued_time": "2025-01-11T23:25:49.4755611Z",
              "session_id": "26",
              "session_start_time": null,
              "spark_jobs": null,
              "spark_pool": "medium",
              "state": "finished",
              "statement_id": 68,
              "statement_ids": [
                68
              ]
            },
            "text/plain": [
              "StatementMeta(medium, 26, 68, Finished, Available, Finished)"
            ]
          },
          "metadata": {},
          "output_type": "display_data"
        }
      ],
      "source": [
        "rel_batch_df = group_and_batch_spark_dataframe(spark_dataframe=reddit_df, \n",
        "                                               partition_col='graph_id', \n",
        "                                               num_groups=spark_executor_count)"
      ]
    },
    {
      "cell_type": "code",
      "execution_count": 70,
      "metadata": {
        "jupyter": {
          "outputs_hidden": false,
          "source_hidden": false
        },
        "nteract": {
          "transient": {
            "deleting": false
          }
        }
      },
      "outputs": [
        {
          "data": {
            "application/vnd.livy.statement-meta+json": {
              "execution_finish_time": "2025-01-11T23:26:41.9804998Z",
              "execution_start_time": "2025-01-11T23:26:40.1656981Z",
              "livy_statement_state": "available",
              "normalized_state": "finished",
              "parent_msg_id": "969c7e39-5cf1-4c68-b3f8-733a3da7f95c",
              "queued_time": "2025-01-11T23:25:53.0269186Z",
              "session_id": "26",
              "session_start_time": null,
              "spark_jobs": null,
              "spark_pool": "medium",
              "state": "finished",
              "statement_id": 69,
              "statement_ids": [
                69
              ]
            },
            "text/plain": [
              "StatementMeta(medium, 26, 69, Finished, Available, Finished)"
            ]
          },
          "metadata": {},
          "output_type": "display_data"
        },
        {
          "name": "stdout",
          "output_type": "stream",
          "text": [
            "+--------+---------+---------+-----+-----+\n",
            "|graph_id|source_id|target_id|group|batch|\n",
            "+--------+---------+---------+-----+-----+\n",
            "|   10223|        0|        2|    3|    0|\n",
            "|   10223|        1|        2|    3|    0|\n",
            "|   10223|        2|        3|    3|    0|\n",
            "|   10222|        7|       23|    2|    0|\n",
            "|   10222|        8|       16|    2|    0|\n",
            "|   10222|        9|       16|    2|    0|\n",
            "|   10222|       10|       16|    2|    0|\n",
            "|   10222|       11|       16|    2|    0|\n",
            "|   10222|       13|       16|    2|    0|\n",
            "|   10222|       14|       16|    2|    0|\n",
            "|   10222|       15|       16|    2|    0|\n",
            "|   10222|       16|       17|    2|    0|\n",
            "|   10222|       16|       18|    2|    0|\n",
            "|   10222|       16|       19|    2|    0|\n",
            "|   10222|       16|       20|    2|    0|\n",
            "|   10222|       16|       21|    2|    0|\n",
            "|   10222|       16|       22|    2|    0|\n",
            "|   10222|       16|       23|    2|    0|\n",
            "|   10222|       16|       24|    2|    0|\n",
            "|   10222|       16|       25|    2|    0|\n",
            "+--------+---------+---------+-----+-----+\n",
            "only showing top 20 rows\n",
            "\n"
          ]
        }
      ],
      "source": [
        "rel_batch_df.show()"
      ]
    },
    {
      "cell_type": "code",
      "execution_count": 71,
      "metadata": {
        "jupyter": {
          "outputs_hidden": false,
          "source_hidden": false
        },
        "nteract": {
          "transient": {
            "deleting": false
          }
        }
      },
      "outputs": [
        {
          "data": {
            "application/vnd.livy.statement-meta+json": {
              "execution_finish_time": "2025-01-11T23:29:15.6482319Z",
              "execution_start_time": "2025-01-11T23:27:04.6742861Z",
              "livy_statement_state": "available",
              "normalized_state": "finished",
              "parent_msg_id": "26133e00-34f6-4c97-997c-69b0ba1a7d18",
              "queued_time": "2025-01-11T23:27:04.555026Z",
              "session_id": "26",
              "session_start_time": null,
              "spark_jobs": null,
              "spark_pool": "medium",
              "state": "finished",
              "statement_id": 70,
              "statement_ids": [
                70
              ]
            },
            "text/plain": [
              "StatementMeta(medium, 26, 70, Finished, Available, Finished)"
            ]
          },
          "metadata": {},
          "output_type": "display_data"
        }
      ],
      "source": [
        "query = \"\"\"\n",
        "    MATCH(source:Node {graphId: event.graph_id, nodeId: event.source_id})\n",
        "    MATCH(target:Node {graphId: event.graph_id, nodeId: event.target_id})\n",
        "    MERGE(source)-[r:RELATES_TO]->(target)\n",
        "    \"\"\"\n",
        "\n",
        "ingest_spark_dataframe(\n",
        "    spark_dataframe=rel_batch_df,\n",
        "    save_mode= \"Overwrite\",\n",
        "    options={\"query\":query}\n",
        ")"
      ]
    },
    {
      "cell_type": "markdown",
      "metadata": {
        "nteract": {
          "transient": {
            "deleting": false
          }
        }
      },
      "source": [
        "## Delete rels"
      ]
    },
    {
      "cell_type": "code",
      "execution_count": 72,
      "metadata": {
        "jupyter": {
          "outputs_hidden": false,
          "source_hidden": false
        },
        "nteract": {
          "transient": {
            "deleting": false
          }
        }
      },
      "outputs": [
        {
          "data": {
            "application/vnd.livy.statement-meta+json": {
              "execution_finish_time": "2025-01-11T23:29:28.5515873Z",
              "execution_start_time": "2025-01-11T23:29:26.7485404Z",
              "livy_statement_state": "available",
              "normalized_state": "finished",
              "parent_msg_id": "3a05e4c2-9b0f-4c01-a7d5-61b002e483bf",
              "queued_time": "2025-01-11T23:29:26.6421279Z",
              "session_id": "26",
              "session_start_time": null,
              "spark_jobs": null,
              "spark_pool": "medium",
              "state": "finished",
              "statement_id": 71,
              "statement_ids": [
                71
              ]
            },
            "text/plain": [
              "StatementMeta(medium, 26, 71, Finished, Available, Finished)"
            ]
          },
          "metadata": {},
          "output_type": "display_data"
        },
        {
          "name": "stdout",
          "output_type": "stream",
          "text": [
            "5074915 508\n"
          ]
        }
      ],
      "source": [
        "rel_count = reddit_df.count()\n",
        "batch_count = rel_count // 10000 + 1\n",
        "print(rel_count, batch_count)"
      ]
    },
    {
      "cell_type": "code",
      "execution_count": 73,
      "metadata": {
        "jupyter": {
          "outputs_hidden": false,
          "source_hidden": false
        },
        "nteract": {
          "transient": {
            "deleting": false
          }
        }
      },
      "outputs": [
        {
          "data": {
            "application/vnd.livy.statement-meta+json": {
              "execution_finish_time": "2025-01-11T23:29:33.0382324Z",
              "execution_start_time": "2025-01-11T23:29:32.5200288Z",
              "livy_statement_state": "available",
              "normalized_state": "finished",
              "parent_msg_id": "db60fdcf-5a4f-443f-b6fc-03b8e65e5613",
              "queued_time": "2025-01-11T23:29:32.4091933Z",
              "session_id": "26",
              "session_start_time": null,
              "spark_jobs": null,
              "spark_pool": "medium",
              "state": "finished",
              "statement_id": 72,
              "statement_ids": [
                72
              ]
            },
            "text/plain": [
              "StatementMeta(medium, 26, 72, Finished, Available, Finished)"
            ]
          },
          "metadata": {},
          "output_type": "display_data"
        },
        {
          "name": "stdout",
          "output_type": "stream",
          "text": [
            "508\n"
          ]
        }
      ],
      "source": [
        "from pyspark.sql.functions import lit\n",
        "del_df = (spark.range(batch_count)\n",
        "    .select(lit(1).alias(\"id\")))\n",
        "print(del_df.count())"
      ]
    },
    {
      "cell_type": "code",
      "execution_count": 74,
      "metadata": {
        "jupyter": {
          "outputs_hidden": false,
          "source_hidden": false
        },
        "nteract": {
          "transient": {
            "deleting": false
          }
        }
      },
      "outputs": [
        {
          "data": {
            "application/vnd.livy.statement-meta+json": {
              "execution_finish_time": "2025-01-11T23:32:00.5912265Z",
              "execution_start_time": "2025-01-11T23:29:36.7229458Z",
              "livy_statement_state": "available",
              "normalized_state": "finished",
              "parent_msg_id": "048159bf-fd15-4150-bfc2-843fc27d3241",
              "queued_time": "2025-01-11T23:29:36.5941022Z",
              "session_id": "26",
              "session_start_time": null,
              "spark_jobs": null,
              "spark_pool": "medium",
              "state": "finished",
              "statement_id": 73,
              "statement_ids": [
                73
              ]
            },
            "text/plain": [
              "StatementMeta(medium, 26, 73, Finished, Available, Finished)"
            ]
          },
          "metadata": {},
          "output_type": "display_data"
        }
      ],
      "source": [
        "del_query = \"\"\"\n",
        "    MATCH ()-[r:RELATES_TO]->()\n",
        "    WITH r LIMIT 10000\n",
        "    DELETE r\"\"\"\n",
        "\n",
        "(\n",
        "    del_df.coalesce(1).write\n",
        "    .format(\"org.neo4j.spark.DataSource\")\n",
        "    .mode(\"Overwrite\")\n",
        "    .option(\"query\", del_query)\n",
        "    .option(\"batch.size\", 1)\n",
        "    .save()\n",
        ")"
      ]
    },
    {
      "cell_type": "markdown",
      "metadata": {
        "nteract": {
          "transient": {
            "deleting": false
          }
        }
      },
      "source": [
        "## Load rels serially"
      ]
    },
    {
      "cell_type": "code",
      "execution_count": 75,
      "metadata": {
        "jupyter": {
          "outputs_hidden": false,
          "source_hidden": false
        },
        "nteract": {
          "transient": {
            "deleting": false
          }
        }
      },
      "outputs": [
        {
          "data": {
            "application/vnd.livy.statement-meta+json": {
              "execution_finish_time": "2025-01-11T23:36:18.2333344Z",
              "execution_start_time": "2025-01-11T23:32:00.7201964Z",
              "livy_statement_state": "available",
              "normalized_state": "finished",
              "parent_msg_id": "34fccf78-1a16-4138-af26-e57972d5b79a",
              "queued_time": "2025-01-11T23:29:55.6343855Z",
              "session_id": "26",
              "session_start_time": null,
              "spark_jobs": null,
              "spark_pool": "medium",
              "state": "finished",
              "statement_id": 74,
              "statement_ids": [
                74
              ]
            },
            "text/plain": [
              "StatementMeta(medium, 26, 74, Finished, Available, Finished)"
            ]
          },
          "metadata": {},
          "output_type": "display_data"
        }
      ],
      "source": [
        "(\n",
        "    reddit_df.coalesce(1).write\n",
        "    .format(\"org.neo4j.spark.DataSource\")\n",
        "    .mode(\"Overwrite\")\n",
        "    .option(\"query\", query)\n",
        "    .save()\n",
        ")"
      ]
    }
  ],
  "metadata": {
    "description": null,
    "kernel_info": {
      "name": "synapse_pyspark"
    },
    "kernelspec": {
      "display_name": "Synapse PySpark",
      "language": "Python",
      "name": "synapse_pyspark"
    },
    "language_info": {
      "name": "python"
    },
    "save_output": true,
    "synapse_widget": {
      "state": {},
      "version": "0.1"
    }
  },
  "nbformat": 4,
  "nbformat_minor": 2
}
