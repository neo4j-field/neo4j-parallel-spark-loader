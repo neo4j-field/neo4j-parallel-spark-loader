{
  "cells": [
    {
      "cell_type": "code",
      "execution_count": 1,
      "metadata": {},
      "outputs": [],
      "source": [
        "from pyspark.sql import SparkSession\n",
        "from pyspark.sql.types import StructType, StructField, IntegerType\n",
        "import requests\n",
        "from io import BytesIO\n",
        "from zipfile import ZipFile\n",
        "from neo4j_parallel_spark_loader.predefined_components import group_and_batch_spark_dataframe\n",
        "from neo4j_parallel_spark_loader import ingest_spark_dataframe\n",
        "from neo4j_parallel_spark_loader.visualize import create_ingest_heatmap\n",
        "import json"
      ]
    },
    {
      "cell_type": "markdown",
      "metadata": {
        "nteract": {
          "transient": {
            "deleting": false
          }
        }
      },
      "source": [
        "## Create spark session\n",
        "Update the values below for your environment"
      ]
    },
    {
      "cell_type": "code",
      "execution_count": 2,
      "metadata": {
        "jupyter": {
          "outputs_hidden": false,
          "source_hidden": false
        },
        "nteract": {
          "transient": {
            "deleting": false
          }
        }
      },
      "outputs": [
        {
          "name": "stderr",
          "output_type": "stream",
          "text": [
            "Warning: Ignoring non-Spark config property: neo4j.url\n",
            "Warning: Ignoring non-Spark config property: url\n",
            "Warning: Ignoring non-Spark config property: neo4j.database\n",
            "Warning: Ignoring non-Spark config property: neo4j.authentication.basic.password\n",
            "Warning: Ignoring non-Spark config property: neo4j.authentication.basic.username\n",
            "25/01/12 16:04:43 WARN Utils: Your hostname, Nathans-MacBook-Pro-3.local resolves to a loopback address: 127.0.0.1; using 192.168.86.181 instead (on interface en0)\n",
            "25/01/12 16:04:43 WARN Utils: Set SPARK_LOCAL_IP if you need to bind to another address\n",
            "Setting default log level to \"WARN\".\n",
            "To adjust logging level use sc.setLogLevel(newLevel). For SparkR, use setLogLevel(newLevel).\n",
            "25/01/12 16:04:44 WARN NativeCodeLoader: Unable to load native-hadoop library for your platform... using builtin-java classes where applicable\n"
          ]
        }
      ],
      "source": [
        "username = \"NEO4J_USER\"\n",
        "password = \"NEO4J_PASSWORD\"\n",
        "url = \"NEO4J_URL\"\n",
        "dbname = \"NEO4J_DATABASE\"\n",
        "spark_executor_count=5\n",
        "\n",
        "spark = (\n",
        "    SparkSession.builder\n",
        "    .appName(\"ReditThreads\")\n",
        "    .config(\"neo4j.url\", url)\n",
        "    .config(\"url\", url)\n",
        "    .config(\"neo4j.authentication.basic.username\", username)\n",
        "    .config(\"neo4j.authentication.basic.password\", \"i2_dYwwAMKKqp7tokHoscvNJbBBn1snAZKX0uA_gffA\")\n",
        "    .config(\"neo4j.database\", dbname)\n",
        "    .getOrCreate()\n",
        ")"
      ]
    },
    {
      "cell_type": "markdown",
      "metadata": {
        "nteract": {
          "transient": {
            "deleting": false
          }
        }
      },
      "source": [
        "## Download data"
      ]
    },
    {
      "cell_type": "code",
      "execution_count": 3,
      "metadata": {
        "jupyter": {
          "outputs_hidden": false,
          "source_hidden": false
        },
        "nteract": {
          "transient": {
            "deleting": false
          }
        }
      },
      "outputs": [
        {
          "name": "stderr",
          "output_type": "stream",
          "text": [
            "25/01/12 16:05:54 WARN TaskSetManager: Stage 0 contains a task of very large size (5590 KiB). The maximum recommended task size is 1000 KiB.\n",
            "25/01/12 16:06:00 WARN PythonRunner: Detected deadlock while completing task 0.0 in stage 0 (TID 0): Attempting to kill Python Worker\n",
            "                                                                                \r"
          ]
        },
        {
          "name": "stdout",
          "output_type": "stream",
          "text": [
            "+--------+---------+---------+\n",
            "|graph_id|source_id|target_id|\n",
            "+--------+---------+---------+\n",
            "|       0|        0|        2|\n",
            "|       0|        1|        5|\n",
            "|       0|        2|        4|\n",
            "|       0|        2|        5|\n",
            "|       0|        2|        6|\n",
            "|       0|        2|        7|\n",
            "|       0|        2|        8|\n",
            "|       0|        2|        9|\n",
            "|       0|        2|       10|\n",
            "|       0|        3|        8|\n",
            "|       1|        0|        3|\n",
            "|       1|        0|        6|\n",
            "|       1|        1|        8|\n",
            "|       1|        2|        8|\n",
            "|       1|        4|        8|\n",
            "|       1|        5|        8|\n",
            "|       1|        6|        8|\n",
            "|       1|        7|        8|\n",
            "|       1|        8|        9|\n",
            "|       1|        8|       10|\n",
            "+--------+---------+---------+\n",
            "only showing top 20 rows\n",
            "\n"
          ]
        }
      ],
      "source": [
        "schema = StructType([\n",
        "    StructField(\"graph_id\", IntegerType(), True),\n",
        "    StructField(\"source_id\", IntegerType(), True),\n",
        "    StructField(\"target_id\", IntegerType(), True)\n",
        "])\n",
        "\n",
        "# Download and read the zip file content\n",
        "response = requests.get(\"https://snap.stanford.edu/data/reddit_threads.zip\")\n",
        "zip_file = ZipFile(BytesIO(response.content))\n",
        "\n",
        "# Read the JSON file content from the zip\n",
        "with zip_file.open(\"reddit_threads/reddit_edges.json\") as file:\n",
        "    # Parse JSON content\n",
        "    data = json.loads(file.read().decode('utf-8'))\n",
        "    flattened = [[int(t[0]), int(sublist[0]), int(sublist[1])] for t in data.items() for sublist in t[1]]\n",
        "    \n",
        "    # Create DataFrame from parsed JSON\n",
        "    reddit_df = spark.createDataFrame(flattened, schema=schema)\n",
        "\n",
        "# Show the result\n",
        "reddit_df.show()"
      ]
    },
    {
      "cell_type": "code",
      "execution_count": 4,
      "metadata": {
        "jupyter": {
          "outputs_hidden": false,
          "source_hidden": false
        },
        "nteract": {
          "transient": {
            "deleting": false
          }
        }
      },
      "outputs": [
        {
          "name": "stderr",
          "output_type": "stream",
          "text": [
            "25/01/12 16:06:02 WARN TaskSetManager: Stage 1 contains a task of very large size (5590 KiB). The maximum recommended task size is 1000 KiB.\n",
            "                                                                                \r"
          ]
        },
        {
          "data": {
            "text/plain": [
              "5074915"
            ]
          },
          "execution_count": 4,
          "metadata": {},
          "output_type": "execute_result"
        }
      ],
      "source": [
        "reddit_df.count()"
      ]
    },
    {
      "cell_type": "markdown",
      "metadata": {
        "nteract": {
          "transient": {
            "deleting": false
          }
        }
      },
      "source": [
        "## Load nodes"
      ]
    },
    {
      "cell_type": "code",
      "execution_count": 65,
      "metadata": {
        "jupyter": {
          "outputs_hidden": false,
          "source_hidden": false
        },
        "nteract": {
          "transient": {
            "deleting": false
          }
        }
      },
      "outputs": [
        {
          "data": {
            "application/vnd.livy.statement-meta+json": {
              "execution_finish_time": "2025-01-11T23:23:27.639813Z",
              "execution_start_time": "2025-01-11T23:23:23.682035Z",
              "livy_statement_state": "available",
              "normalized_state": "finished",
              "parent_msg_id": "7b8ad8aa-c3b2-4ccf-b0f3-e63f1149bd63",
              "queued_time": "2025-01-11T23:23:23.5534729Z",
              "session_id": "26",
              "session_start_time": null,
              "spark_jobs": null,
              "spark_pool": "medium",
              "state": "finished",
              "statement_id": 64,
              "statement_ids": [
                64
              ]
            },
            "text/plain": [
              "StatementMeta(medium, 26, 64, Finished, Available, Finished)"
            ]
          },
          "metadata": {},
          "output_type": "display_data"
        },
        {
          "data": {
            "text/plain": [
              "4859280"
            ]
          },
          "execution_count": 129,
          "metadata": {},
          "output_type": "execute_result"
        }
      ],
      "source": [
        "node_df = (reddit_df\n",
        "            .select('graph_id', 'source_id')\n",
        "            .withColumnRenamed('source_id', 'nodeId')\n",
        "            .union(\n",
        "                reddit_df\n",
        "                .select('graph_id', 'target_id')\n",
        "                .withColumnRenamed('target_id', 'nodeId'))\n",
        "                .dropDuplicates())\n",
        "node_df.count()"
      ]
    },
    {
      "cell_type": "code",
      "execution_count": 66,
      "metadata": {
        "jupyter": {
          "outputs_hidden": false,
          "source_hidden": false
        },
        "nteract": {
          "transient": {
            "deleting": false
          }
        }
      },
      "outputs": [
        {
          "data": {
            "application/vnd.livy.statement-meta+json": {
              "execution_finish_time": "2025-01-11T23:26:11.8251813Z",
              "execution_start_time": "2025-01-11T23:25:10.4645703Z",
              "livy_statement_state": "available",
              "normalized_state": "finished",
              "parent_msg_id": "8ebd5d91-2211-40f6-955b-c892e42b18ed",
              "queued_time": "2025-01-11T23:25:10.3417526Z",
              "session_id": "26",
              "session_start_time": null,
              "spark_jobs": null,
              "spark_pool": "medium",
              "state": "finished",
              "statement_id": 65,
              "statement_ids": [
                65
              ]
            },
            "text/plain": [
              "StatementMeta(medium, 26, 65, Finished, Available, Finished)"
            ]
          },
          "metadata": {},
          "output_type": "display_data"
        }
      ],
      "source": [
        "(\n",
        "    node_df.write\n",
        "    .format(\"org.neo4j.spark.DataSource\")\n",
        "    .mode(\"Overwrite\")\n",
        "    .option(\"labels\", \":Node\")\n",
        "    .option(\"node.keys\", \"graph_id:graphId,nodeId:nodeId\")\n",
        "    .option(\"schema.optimization.node.keys\", \"KEY\")\n",
        "    .save()\n",
        ")"
      ]
    },
    {
      "cell_type": "markdown",
      "metadata": {
        "nteract": {
          "transient": {
            "deleting": false
          }
        }
      },
      "source": [
        "## Load rels"
      ]
    },
    {
      "cell_type": "code",
      "execution_count": 5,
      "metadata": {
        "jupyter": {
          "outputs_hidden": false,
          "source_hidden": false
        },
        "nteract": {
          "transient": {
            "deleting": false
          }
        }
      },
      "outputs": [
        {
          "name": "stderr",
          "output_type": "stream",
          "text": [
            "25/01/12 16:06:08 WARN TaskSetManager: Stage 4 contains a task of very large size (5590 KiB). The maximum recommended task size is 1000 KiB.\n",
            "                                                                                \r"
          ]
        }
      ],
      "source": [
        "rel_batch_df = group_and_batch_spark_dataframe(spark_dataframe=reddit_df, \n",
        "                                               partition_col='graph_id', \n",
        "                                               num_groups=spark_executor_count)"
      ]
    },
    {
      "cell_type": "code",
      "execution_count": 6,
      "metadata": {
        "jupyter": {
          "outputs_hidden": false,
          "source_hidden": false
        },
        "nteract": {
          "transient": {
            "deleting": false
          }
        }
      },
      "outputs": [
        {
          "name": "stderr",
          "output_type": "stream",
          "text": [
            "25/01/12 16:06:28 WARN TaskSetManager: Stage 12 contains a task of very large size (5590 KiB). The maximum recommended task size is 1000 KiB.\n",
            "25/01/12 16:06:32 WARN PythonRunner: Detected deadlock while completing task 2.0 in stage 12 (TID 25): Attempting to kill Python Worker\n",
            "25/01/12 16:06:32 WARN PythonRunner: Detected deadlock while completing task 0.0 in stage 12 (TID 23): Attempting to kill Python Worker\n",
            "25/01/12 16:06:32 WARN PythonRunner: Detected deadlock while completing task 1.0 in stage 12 (TID 24): Attempting to kill Python Worker\n",
            "25/01/12 16:06:32 WARN PythonRunner: Detected deadlock while completing task 4.0 in stage 12 (TID 27): Attempting to kill Python Worker\n",
            "25/01/12 16:06:32 WARN PythonRunner: Detected deadlock while completing task 3.0 in stage 12 (TID 26): Attempting to kill Python Worker\n",
            "25/01/12 16:06:32 WARN PythonRunner: Detected deadlock while completing task 7.0 in stage 12 (TID 30): Attempting to kill Python Worker\n",
            "25/01/12 16:06:32 WARN PythonRunner: Detected deadlock while completing task 6.0 in stage 12 (TID 29): Attempting to kill Python Worker\n",
            "25/01/12 16:06:32 WARN PythonRunner: Detected deadlock while completing task 5.0 in stage 12 (TID 28): Attempting to kill Python Worker\n",
            "[Stage 13:====================================>                     (5 + 3) / 8]\r"
          ]
        },
        {
          "name": "stdout",
          "output_type": "stream",
          "text": [
            "+--------+---------+---------+-----+-----+\n",
            "|graph_id|source_id|target_id|group|batch|\n",
            "+--------+---------+---------+-----+-----+\n",
            "|       0|        0|        2|    0|    0|\n",
            "|       0|        1|        5|    0|    0|\n",
            "|       0|        2|        4|    0|    0|\n",
            "|       0|        2|        5|    0|    0|\n",
            "|       0|        2|        6|    0|    0|\n",
            "|       0|        2|        7|    0|    0|\n",
            "|       0|        2|        8|    0|    0|\n",
            "|       0|        2|        9|    0|    0|\n",
            "|       0|        2|       10|    0|    0|\n",
            "|       0|        3|        8|    0|    0|\n",
            "|       1|        0|        3|    3|    0|\n",
            "|       1|        0|        6|    3|    0|\n",
            "|       1|        1|        8|    3|    0|\n",
            "|       1|        2|        8|    3|    0|\n",
            "|       1|        4|        8|    3|    0|\n",
            "|       1|        5|        8|    3|    0|\n",
            "|       1|        6|        8|    3|    0|\n",
            "|       1|        7|        8|    3|    0|\n",
            "|       1|        8|        9|    3|    0|\n",
            "|       1|        8|       10|    3|    0|\n",
            "+--------+---------+---------+-----+-----+\n",
            "only showing top 20 rows\n",
            "\n"
          ]
        },
        {
          "name": "stderr",
          "output_type": "stream",
          "text": [
            "                                                                                \r"
          ]
        }
      ],
      "source": [
        "rel_batch_df.show()"
      ]
    },
    {
      "cell_type": "code",
      "execution_count": 9,
      "metadata": {},
      "outputs": [
        {
          "name": "stderr",
          "output_type": "stream",
          "text": [
            "25/01/12 16:07:41 WARN TaskSetManager: Stage 35 contains a task of very large size (5590 KiB). The maximum recommended task size is 1000 KiB.\n",
            "                                                                                \r"
          ]
        },
        {
          "data": {
            "text/plain": [
              "<Axes: title={'center': 'Parallel Ingest Heat Map'}, xlabel='Group Number', ylabel='Batch'>"
            ]
          },
          "execution_count": 9,
          "metadata": {},
          "output_type": "execute_result"
        },
        {
          "data": {
            "image/png": "[encoded data removed]",
            "text/plain": [
              "<Figure size 800x200 with 2 Axes>"
            ]
          },
          "metadata": {},
          "output_type": "display_data"
        }
      ],
      "source": [
        "create_ingest_heatmap(rel_batch_df, figsize=(8, 2))"
      ]
    },
    {
      "cell_type": "code",
      "execution_count": 71,
      "metadata": {
        "jupyter": {
          "outputs_hidden": false,
          "source_hidden": false
        },
        "nteract": {
          "transient": {
            "deleting": false
          }
        }
      },
      "outputs": [
        {
          "data": {
            "application/vnd.livy.statement-meta+json": {
              "execution_finish_time": "2025-01-11T23:29:15.6482319Z",
              "execution_start_time": "2025-01-11T23:27:04.6742861Z",
              "livy_statement_state": "available",
              "normalized_state": "finished",
              "parent_msg_id": "26133e00-34f6-4c97-997c-69b0ba1a7d18",
              "queued_time": "2025-01-11T23:27:04.555026Z",
              "session_id": "26",
              "session_start_time": null,
              "spark_jobs": null,
              "spark_pool": "medium",
              "state": "finished",
              "statement_id": 70,
              "statement_ids": [
                70
              ]
            },
            "text/plain": [
              "StatementMeta(medium, 26, 70, Finished, Available, Finished)"
            ]
          },
          "metadata": {},
          "output_type": "display_data"
        }
      ],
      "source": [
        "query = \"\"\"\n",
        "    MATCH(source:Node {graphId: event.graph_id, nodeId: event.source_id})\n",
        "    MATCH(target:Node {graphId: event.graph_id, nodeId: event.target_id})\n",
        "    MERGE(source)-[r:RELATES_TO]->(target)\n",
        "    \"\"\"\n",
        "\n",
        "ingest_spark_dataframe(\n",
        "    spark_dataframe=rel_batch_df,\n",
        "    save_mode= \"Overwrite\",\n",
        "    options={\"query\":query}\n",
        ")"
      ]
    },
    {
      "cell_type": "markdown",
      "metadata": {
        "nteract": {
          "transient": {
            "deleting": false
          }
        }
      },
      "source": [
        "## Delete rels"
      ]
    },
    {
      "cell_type": "code",
      "execution_count": 72,
      "metadata": {
        "jupyter": {
          "outputs_hidden": false,
          "source_hidden": false
        },
        "nteract": {
          "transient": {
            "deleting": false
          }
        }
      },
      "outputs": [
        {
          "data": {
            "application/vnd.livy.statement-meta+json": {
              "execution_finish_time": "2025-01-11T23:29:28.5515873Z",
              "execution_start_time": "2025-01-11T23:29:26.7485404Z",
              "livy_statement_state": "available",
              "normalized_state": "finished",
              "parent_msg_id": "3a05e4c2-9b0f-4c01-a7d5-61b002e483bf",
              "queued_time": "2025-01-11T23:29:26.6421279Z",
              "session_id": "26",
              "session_start_time": null,
              "spark_jobs": null,
              "spark_pool": "medium",
              "state": "finished",
              "statement_id": 71,
              "statement_ids": [
                71
              ]
            },
            "text/plain": [
              "StatementMeta(medium, 26, 71, Finished, Available, Finished)"
            ]
          },
          "metadata": {},
          "output_type": "display_data"
        },
        {
          "name": "stdout",
          "output_type": "stream",
          "text": [
            "5074915 508\n"
          ]
        }
      ],
      "source": [
        "rel_count = reddit_df.count()\n",
        "batch_count = rel_count // 10000 + 1\n",
        "print(rel_count, batch_count)"
      ]
    },
    {
      "cell_type": "code",
      "execution_count": 73,
      "metadata": {
        "jupyter": {
          "outputs_hidden": false,
          "source_hidden": false
        },
        "nteract": {
          "transient": {
            "deleting": false
          }
        }
      },
      "outputs": [
        {
          "data": {
            "application/vnd.livy.statement-meta+json": {
              "execution_finish_time": "2025-01-11T23:29:33.0382324Z",
              "execution_start_time": "2025-01-11T23:29:32.5200288Z",
              "livy_statement_state": "available",
              "normalized_state": "finished",
              "parent_msg_id": "db60fdcf-5a4f-443f-b6fc-03b8e65e5613",
              "queued_time": "2025-01-11T23:29:32.4091933Z",
              "session_id": "26",
              "session_start_time": null,
              "spark_jobs": null,
              "spark_pool": "medium",
              "state": "finished",
              "statement_id": 72,
              "statement_ids": [
                72
              ]
            },
            "text/plain": [
              "StatementMeta(medium, 26, 72, Finished, Available, Finished)"
            ]
          },
          "metadata": {},
          "output_type": "display_data"
        },
        {
          "name": "stdout",
          "output_type": "stream",
          "text": [
            "508\n"
          ]
        }
      ],
      "source": [
        "from pyspark.sql.functions import lit\n",
        "del_df = (spark.range(batch_count)\n",
        "    .select(lit(1).alias(\"id\")))\n",
        "print(del_df.count())"
      ]
    },
    {
      "cell_type": "code",
      "execution_count": 74,
      "metadata": {
        "jupyter": {
          "outputs_hidden": false,
          "source_hidden": false
        },
        "nteract": {
          "transient": {
            "deleting": false
          }
        }
      },
      "outputs": [
        {
          "data": {
            "application/vnd.livy.statement-meta+json": {
              "execution_finish_time": "2025-01-11T23:32:00.5912265Z",
              "execution_start_time": "2025-01-11T23:29:36.7229458Z",
              "livy_statement_state": "available",
              "normalized_state": "finished",
              "parent_msg_id": "048159bf-fd15-4150-bfc2-843fc27d3241",
              "queued_time": "2025-01-11T23:29:36.5941022Z",
              "session_id": "26",
              "session_start_time": null,
              "spark_jobs": null,
              "spark_pool": "medium",
              "state": "finished",
              "statement_id": 73,
              "statement_ids": [
                73
              ]
            },
            "text/plain": [
              "StatementMeta(medium, 26, 73, Finished, Available, Finished)"
            ]
          },
          "metadata": {},
          "output_type": "display_data"
        }
      ],
      "source": [
        "del_query = \"\"\"\n",
        "    MATCH ()-[r:RELATES_TO]->()\n",
        "    WITH r LIMIT 10000\n",
        "    DELETE r\"\"\"\n",
        "\n",
        "(\n",
        "    del_df.coalesce(1).write\n",
        "    .format(\"org.neo4j.spark.DataSource\")\n",
        "    .mode(\"Overwrite\")\n",
        "    .option(\"query\", del_query)\n",
        "    .option(\"batch.size\", 1)\n",
        "    .save()\n",
        ")"
      ]
    },
    {
      "cell_type": "markdown",
      "metadata": {
        "nteract": {
          "transient": {
            "deleting": false
          }
        }
      },
      "source": [
        "## Load rels serially"
      ]
    },
    {
      "cell_type": "code",
      "execution_count": 75,
      "metadata": {
        "jupyter": {
          "outputs_hidden": false,
          "source_hidden": false
        },
        "nteract": {
          "transient": {
            "deleting": false
          }
        }
      },
      "outputs": [
        {
          "data": {
            "application/vnd.livy.statement-meta+json": {
              "execution_finish_time": "2025-01-11T23:36:18.2333344Z",
              "execution_start_time": "2025-01-11T23:32:00.7201964Z",
              "livy_statement_state": "available",
              "normalized_state": "finished",
              "parent_msg_id": "34fccf78-1a16-4138-af26-e57972d5b79a",
              "queued_time": "2025-01-11T23:29:55.6343855Z",
              "session_id": "26",
              "session_start_time": null,
              "spark_jobs": null,
              "spark_pool": "medium",
              "state": "finished",
              "statement_id": 74,
              "statement_ids": [
                74
              ]
            },
            "text/plain": [
              "StatementMeta(medium, 26, 74, Finished, Available, Finished)"
            ]
          },
          "metadata": {},
          "output_type": "display_data"
        }
      ],
      "source": [
        "(\n",
        "    reddit_df.coalesce(1).write\n",
        "    .format(\"org.neo4j.spark.DataSource\")\n",
        "    .mode(\"Overwrite\")\n",
        "    .option(\"query\", query)\n",
        "    .save()\n",
        ")"
      ]
    }
  ],
  "metadata": {
    "description": null,
    "kernel_info": {
      "name": "synapse_pyspark"
    },
    "kernelspec": {
      "display_name": ".venv",
      "language": "python",
      "name": "python3"
    },
    "language_info": {
      "codemirror_mode": {
        "name": "ipython",
        "version": 3
      },
      "file_extension": ".py",
      "mimetype": "text/x-python",
      "name": "python",
      "nbconvert_exporter": "python",
      "pygments_lexer": "ipython3",
      "version": "3.11.7"
    },
    "save_output": true,
    "synapse_widget": {
      "state": {},
      "version": "0.1"
    }
  },
  "nbformat": 4,
  "nbformat_minor": 2
}
