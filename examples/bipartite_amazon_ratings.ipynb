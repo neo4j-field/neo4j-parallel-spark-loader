{
  "cells": [
    {
      "cell_type": "code",
      "execution_count": 1,
      "metadata": {},
      "outputs": [],
      "source": [
        "import os\n",
        "from dotenv import load_dotenv\n",
        "from pyspark.sql import SparkSession\n",
        "from pyspark.sql.types import StructType, StructField, IntegerType, FloatType\n",
        "import requests\n",
        "from io import BytesIO\n",
        "from zipfile import ZipFile\n",
        "from neo4j_parallel_spark_loader.bipartite import group_and_batch_spark_dataframe\n",
        "from neo4j_parallel_spark_loader import ingest_spark_dataframe\n",
        "from neo4j_parallel_spark_loader.visualize import create_ingest_heatmap\n",
        "\n",
        "load_dotenv()\n"
      ]
    },
    {
      "cell_type": "markdown",
      "metadata": {
        "nteract": {
          "transient": {
            "deleting": false
          }
        }
      },
      "source": [
        "## Create spark session\n",
        "Update the values below for your environment"
      ]
    },
    {
      "cell_type": "code",
      "execution_count": 2,
      "metadata": {
        "jupyter": {
          "outputs_hidden": false,
          "source_hidden": false
        },
        "nteract": {
          "transient": {
            "deleting": false
          }
        }
      },
      "outputs": [
        {
          "name": "stderr",
          "output_type": "stream",
          "text": [
            "Warning: Ignoring non-Spark config property: neo4j.url\n",
            "Warning: Ignoring non-Spark config property: url\n",
            "Warning: Ignoring non-Spark config property: neo4j.database\n",
            "Warning: Ignoring non-Spark config property: neo4j.authentication.basic.password\n",
            "Warning: Ignoring non-Spark config property: neo4j.authentication.basic.username\n",
            "25/01/12 10:50:29 WARN Utils: Your hostname, Nathans-MacBook-Pro-3.local resolves to a loopback address: 127.0.0.1; using 192.168.86.181 instead (on interface en0)\n",
            "25/01/12 10:50:29 WARN Utils: Set SPARK_LOCAL_IP if you need to bind to another address\n",
            "Setting default log level to \"WARN\".\n",
            "To adjust logging level use sc.setLogLevel(newLevel). For SparkR, use setLogLevel(newLevel).\n",
            "25/01/12 10:50:30 WARN NativeCodeLoader: Unable to load native-hadoop library for your platform... using builtin-java classes where applicable\n"
          ]
        }
      ],
      "source": [
        "spark_executor_count=5\n",
        "\n",
        "spark = (\n",
        "    SparkSession.builder\n",
        "    .appName(\"AmazonRatings\")\n",
        "    .config(\"neo4j.url\", os.environ.get(\"NEO4J_URI\"))\n",
        "    .config(\"url\", os.environ.get(\"NEO4J_URI\"))\n",
        "    .config(\"neo4j.authentication.basic.username\", os.environ.get(\"USERNAME\"))\n",
        "    .config(\"neo4j.authentication.basic.password\", os.environ.get(\"NEO4J_PASSWORD\"))\n",
        "    .config(\"neo4j.database\", os.environ.get(\"NEO4J_DATABASE\"))\n",
        "    .getOrCreate()\n",
        ")"
      ]
    },
    {
      "cell_type": "markdown",
      "metadata": {
        "nteract": {
          "transient": {
            "deleting": false
          }
        }
      },
      "source": [
        "## Download data"
      ]
    },
    {
      "cell_type": "code",
      "execution_count": 3,
      "metadata": {
        "jupyter": {
          "outputs_hidden": false,
          "source_hidden": false
        },
        "nteract": {
          "transient": {
            "deleting": false
          }
        }
      },
      "outputs": [
        {
          "name": "stderr",
          "output_type": "stream",
          "text": [
            "25/01/12 10:50:44 WARN TaskSetManager: Stage 0 contains a task of very large size (20312 KiB). The maximum recommended task size is 1000 KiB.\n",
            "[Stage 0:>                                                          (0 + 1) / 1]\r"
          ]
        },
        {
          "name": "stdout",
          "output_type": "stream",
          "text": [
            "+---------+---------+------+----------+\n",
            "|source_id|target_id|rating| timestamp|\n",
            "+---------+---------+------+----------+\n",
            "|        1|        1|   5.0|1117404000|\n",
            "|        1|        2|   1.0|1105916400|\n",
            "|        1|        3|   5.0|1105916400|\n",
            "|        1|        4|   1.0|1105570800|\n",
            "|        1|        5|   1.0|1104966000|\n",
            "|        1|        6|   5.0|1103497200|\n",
            "|        1|        7|   4.0|1081461600|\n",
            "|        1|        8|   5.0|1074985200|\n",
            "|        1|        9|   5.0|1071961200|\n",
            "|        1|       10|   1.0|1071788400|\n",
            "|        1|       11|   4.0|1071702000|\n",
            "|        1|       12|   5.0|1070492400|\n",
            "|        1|       13|   5.0|1070319600|\n",
            "|        1|       14|   5.0|1066514400|\n",
            "|        1|       15|   4.0|1066341600|\n",
            "|        1|       16|   5.0|1066341600|\n",
            "|        1|       17|   5.0|1066168800|\n",
            "|        1|       18|   2.0|1065996000|\n",
            "|        1|       19|   5.0|1065909600|\n",
            "|        1|       20|   5.0|1065650400|\n",
            "+---------+---------+------+----------+\n",
            "only showing top 20 rows\n",
            "\n",
            "root\n",
            " |-- source_id: integer (nullable = true)\n",
            " |-- target_id: integer (nullable = true)\n",
            " |-- rating: float (nullable = true)\n",
            " |-- timestamp: integer (nullable = true)\n",
            "\n"
          ]
        },
        {
          "name": "stderr",
          "output_type": "stream",
          "text": [
            "25/01/12 10:50:49 WARN PythonRunner: Detected deadlock while completing task 0.0 in stage 0 (TID 0): Attempting to kill Python Worker\n",
            "                                                                                \r"
          ]
        }
      ],
      "source": [
        "# Define the schema\n",
        "schema = StructType([\n",
        "    StructField(\"source_id\", IntegerType(), True),\n",
        "    StructField(\"target_id\", IntegerType(), True),\n",
        "    StructField(\"rating\", FloatType(), True),\n",
        "    StructField(\"timestamp\", IntegerType(), True)\n",
        "])\n",
        "\n",
        "# Download the ZIP file\n",
        "response = requests.get(\"https://nrvis.com/download/data/dynamic/rec-amazon-ratings.zip\")\n",
        "zip_file = ZipFile(BytesIO(response.content))\n",
        "\n",
        "# Read the CSV file directly from the ZIP\n",
        "with zip_file.open(\"rec-amazon-ratings.edges\") as file:\n",
        "    # Convert to string buffer for Spark to read\n",
        "    content = file.read().decode('utf-8')\n",
        "    \n",
        "    # Create RDD from content\n",
        "    rdd = spark.sparkContext.parallelize(content.splitlines())\n",
        "    \n",
        "    # Convert RDD to DataFrame with schema\n",
        "    rating_df = spark.read.csv(rdd, schema=schema, header=False)\n",
        "\n",
        "# Now df is your Spark DataFrame containing the data with proper column names and types\n",
        "# You can verify the data\n",
        "rating_df.show()\n",
        "rating_df.printSchema()"
      ]
    },
    {
      "cell_type": "code",
      "execution_count": 4,
      "metadata": {
        "jupyter": {
          "outputs_hidden": false,
          "source_hidden": false
        },
        "nteract": {
          "transient": {
            "deleting": false
          }
        }
      },
      "outputs": [
        {
          "name": "stderr",
          "output_type": "stream",
          "text": [
            "25/01/12 10:50:49 WARN TaskSetManager: Stage 1 contains a task of very large size (20312 KiB). The maximum recommended task size is 1000 KiB.\n",
            "                                                                                \r"
          ]
        },
        {
          "data": {
            "text/plain": [
              "5838041"
            ]
          },
          "execution_count": 4,
          "metadata": {},
          "output_type": "execute_result"
        }
      ],
      "source": [
        "rating_df.count()"
      ]
    },
    {
      "cell_type": "markdown",
      "metadata": {
        "nteract": {
          "transient": {
            "deleting": false
          }
        }
      },
      "source": [
        "## Load nodes"
      ]
    },
    {
      "cell_type": "code",
      "execution_count": null,
      "metadata": {
        "jupyter": {
          "outputs_hidden": false,
          "source_hidden": false
        },
        "nteract": {
          "transient": {
            "deleting": false
          }
        }
      },
      "outputs": [],
      "source": [
        "(\n",
        "    rating_df\n",
        "    .select(\"source_id\")\n",
        "    .distinct()\n",
        "    .write\n",
        "    .format(\"org.neo4j.spark.DataSource\")\n",
        "    .mode(\"Overwrite\")\n",
        "    .option(\"labels\", \":Source\")\n",
        "    .option(\"node.keys\", \"source_id:id\")\n",
        "    .option(\"schema.optimization.node.keys\", \"KEY\")\n",
        "    .save()\n",
        ")"
      ]
    },
    {
      "cell_type": "code",
      "execution_count": null,
      "metadata": {
        "jupyter": {
          "outputs_hidden": false,
          "source_hidden": false
        },
        "nteract": {
          "transient": {
            "deleting": false
          }
        }
      },
      "outputs": [],
      "source": [
        "(\n",
        "    rating_df\n",
        "    .select(\"target_id\")\n",
        "    .distinct()\n",
        "    .write\n",
        "    .format(\"org.neo4j.spark.DataSource\")\n",
        "    .mode(\"Overwrite\")\n",
        "    .option(\"labels\", \":Target\")\n",
        "    .option(\"node.keys\", \"target_id:id\")\n",
        "    .option(\"schema.optimization.node.keys\", \"KEY\")\n",
        "    .save()\n",
        ")"
      ]
    },
    {
      "cell_type": "markdown",
      "metadata": {
        "nteract": {
          "transient": {
            "deleting": false
          }
        }
      },
      "source": [
        "## Load rels"
      ]
    },
    {
      "cell_type": "code",
      "execution_count": 5,
      "metadata": {
        "jupyter": {
          "outputs_hidden": false,
          "source_hidden": false
        },
        "nteract": {
          "transient": {
            "deleting": false
          }
        }
      },
      "outputs": [
        {
          "name": "stderr",
          "output_type": "stream",
          "text": [
            "25/01/12 10:53:29 WARN TaskSetManager: Stage 4 contains a task of very large size (20312 KiB). The maximum recommended task size is 1000 KiB.\n",
            "25/01/12 10:54:20 WARN TaskSetManager: Stage 12 contains a task of very large size (20312 KiB). The maximum recommended task size is 1000 KiB.\n",
            "25/01/12 10:54:50 WARN TaskSetManager: Stage 20 contains a task of very large size (20312 KiB). The maximum recommended task size is 1000 KiB.\n",
            "25/01/12 10:54:55 WARN TaskSetManager: Stage 21 contains a task of very large size (2348 KiB). The maximum recommended task size is 1000 KiB.\n",
            "25/01/12 10:54:59 WARN RowBasedKeyValueBatch: Calling spill() on RowBasedKeyValueBatch. Will not spill but return 0.\n",
            "25/01/12 10:54:59 WARN RowBasedKeyValueBatch: Calling spill() on RowBasedKeyValueBatch. Will not spill but return 0.\n",
            "25/01/12 10:54:59 WARN RowBasedKeyValueBatch: Calling spill() on RowBasedKeyValueBatch. Will not spill but return 0.\n",
            "25/01/12 10:54:59 WARN RowBasedKeyValueBatch: Calling spill() on RowBasedKeyValueBatch. Will not spill but return 0.\n",
            "25/01/12 10:54:59 WARN RowBasedKeyValueBatch: Calling spill() on RowBasedKeyValueBatch. Will not spill but return 0.\n",
            "25/01/12 10:54:59 WARN RowBasedKeyValueBatch: Calling spill() on RowBasedKeyValueBatch. Will not spill but return 0.\n",
            "25/01/12 10:54:59 WARN RowBasedKeyValueBatch: Calling spill() on RowBasedKeyValueBatch. Will not spill but return 0.\n",
            "25/01/12 10:54:59 WARN RowBasedKeyValueBatch: Calling spill() on RowBasedKeyValueBatch. Will not spill but return 0.\n",
            "25/01/12 10:55:01 WARN TaskSetManager: Stage 34 contains a task of very large size (20312 KiB). The maximum recommended task size is 1000 KiB.\n",
            "25/01/12 10:55:07 WARN TaskSetManager: Stage 35 contains a task of very large size (2348 KiB). The maximum recommended task size is 1000 KiB.\n",
            "25/01/12 10:55:08 WARN TaskSetManager: Stage 36 contains a task of very large size (1339 KiB). The maximum recommended task size is 1000 KiB.\n",
            "25/01/12 10:55:14 WARN RowBasedKeyValueBatch: Calling spill() on RowBasedKeyValueBatch. Will not spill but return 0.\n",
            "25/01/12 10:55:14 WARN RowBasedKeyValueBatch: Calling spill() on RowBasedKeyValueBatch. Will not spill but return 0.\n",
            "25/01/12 10:55:14 WARN RowBasedKeyValueBatch: Calling spill() on RowBasedKeyValueBatch. Will not spill but return 0.\n",
            "25/01/12 10:55:14 WARN RowBasedKeyValueBatch: Calling spill() on RowBasedKeyValueBatch. Will not spill but return 0.\n",
            "25/01/12 10:55:14 WARN RowBasedKeyValueBatch: Calling spill() on RowBasedKeyValueBatch. Will not spill but return 0.\n",
            "25/01/12 10:55:14 WARN RowBasedKeyValueBatch: Calling spill() on RowBasedKeyValueBatch. Will not spill but return 0.\n",
            "25/01/12 10:55:14 WARN RowBasedKeyValueBatch: Calling spill() on RowBasedKeyValueBatch. Will not spill but return 0.\n",
            "25/01/12 10:55:14 WARN RowBasedKeyValueBatch: Calling spill() on RowBasedKeyValueBatch. Will not spill but return 0.\n",
            "                                                                                \r"
          ]
        }
      ],
      "source": [
        "rel_batch_df = group_and_batch_spark_dataframe(spark_dataframe=rating_df, \n",
        "                                               source_col='source_id', \n",
        "                                               target_col='target_id', \n",
        "                                               num_groups=spark_executor_count)"
      ]
    },
    {
      "cell_type": "code",
      "execution_count": 6,
      "metadata": {
        "jupyter": {
          "outputs_hidden": false,
          "source_hidden": false
        },
        "nteract": {
          "transient": {
            "deleting": false
          }
        }
      },
      "outputs": [
        {
          "name": "stderr",
          "output_type": "stream",
          "text": [
            "25/01/12 10:55:16 WARN TaskSetManager: Stage 58 contains a task of very large size (20312 KiB). The maximum recommended task size is 1000 KiB.\n",
            "25/01/12 10:55:20 WARN PythonRunner: Detected deadlock while completing task 0.0 in stage 58 (TID 134): Attempting to kill Python Worker\n",
            "25/01/12 10:55:20 WARN TaskSetManager: Stage 59 contains a task of very large size (2348 KiB). The maximum recommended task size is 1000 KiB.\n",
            "25/01/12 10:55:20 WARN PythonRunner: Detected deadlock while completing task 5.0 in stage 58 (TID 139): Attempting to kill Python Worker\n",
            "25/01/12 10:55:20 WARN PythonRunner: Detected deadlock while completing task 7.0 in stage 58 (TID 141): Attempting to kill Python Worker\n",
            "25/01/12 10:55:20 WARN PythonRunner: Detected deadlock while completing task 2.0 in stage 58 (TID 136): Attempting to kill Python Worker\n",
            "25/01/12 10:55:20 WARN PythonRunner: Detected deadlock while completing task 1.0 in stage 58 (TID 135): Attempting to kill Python Worker\n",
            "25/01/12 10:55:20 WARN PythonRunner: Detected deadlock while completing task 6.0 in stage 58 (TID 140): Attempting to kill Python Worker\n",
            "25/01/12 10:55:20 WARN PythonRunner: Detected deadlock while completing task 4.0 in stage 58 (TID 138): Attempting to kill Python Worker\n",
            "25/01/12 10:55:20 WARN PythonRunner: Detected deadlock while completing task 3.0 in stage 58 (TID 137): Attempting to kill Python Worker\n",
            "25/01/12 10:55:21 WARN TaskSetManager: Stage 60 contains a task of very large size (1339 KiB). The maximum recommended task size is 1000 KiB.\n",
            "                                                                                \r"
          ]
        },
        {
          "name": "stdout",
          "output_type": "stream",
          "text": [
            "+---------+---------+------+----------+-------+-----+\n",
            "|source_id|target_id|rating| timestamp|  group|batch|\n",
            "+---------+---------+------+----------+-------+-----+\n",
            "|        1|        7|   4.0|1081461600|4 --> 4|    3|\n",
            "|        1|       19|   5.0|1065909600|4 --> 2|    1|\n",
            "|    41421|     3243|   1.0|1113256800|2 --> 1|    3|\n",
            "|    16832|     5177|   1.0|1097532000|1 --> 3|    4|\n",
            "|   636810|     8321|   2.0| 955058400|4 --> 1|    0|\n",
            "|    16831|    18546|   5.0| 956008800|3 --> 4|    2|\n",
            "|  1673392|    36750|   1.0|1139094000|0 --> 3|    3|\n",
            "|    16831|    42744|   4.0|1008284400|3 --> 3|    1|\n",
            "|    16831|    44234|   5.0| 984956400|3 --> 0|    3|\n",
            "|  1197279|    79793|   5.0|1102114800|2 --> 2|    4|\n",
            "|    41420|    85397|   5.0|1043708400|0 --> 4|    4|\n",
            "|   636807|   131380|   5.0| 943225200|4 --> 1|    0|\n",
            "|   236796|   220160|   5.0|1126303200|3 --> 2|    0|\n",
            "|   236796|   237793|   5.0|1144188000|3 --> 1|    4|\n",
            "|   636818|   420727|   1.0|1138057200|0 --> 1|    1|\n",
            "|   236796|   497225|   5.0|1122415200|3 --> 1|    4|\n",
            "|    41421|   555044|   5.0|1112911200|2 --> 4|    1|\n",
            "|   236792|   838278|   3.0|1074726000|0 --> 3|    3|\n",
            "|   236798|   838281|   4.0|1000850400|0 --> 2|    2|\n",
            "|   636809|   868684|   2.0| 951260400|0 --> 1|    1|\n",
            "+---------+---------+------+----------+-------+-----+\n",
            "only showing top 20 rows\n",
            "\n"
          ]
        }
      ],
      "source": [
        "rel_batch_df.show()"
      ]
    },
    {
      "cell_type": "code",
      "execution_count": 7,
      "metadata": {},
      "outputs": [
        {
          "name": "stderr",
          "output_type": "stream",
          "text": [
            "25/01/12 10:55:23 WARN TaskSetManager: Stage 69 contains a task of very large size (20312 KiB). The maximum recommended task size is 1000 KiB.\n",
            "25/01/12 10:55:28 WARN TaskSetManager: Stage 70 contains a task of very large size (2348 KiB). The maximum recommended task size is 1000 KiB.\n",
            "25/01/12 10:55:29 WARN TaskSetManager: Stage 71 contains a task of very large size (1339 KiB). The maximum recommended task size is 1000 KiB.\n",
            "25/01/12 10:55:34 WARN RowBasedKeyValueBatch: Calling spill() on RowBasedKeyValueBatch. Will not spill but return 0.\n",
            "25/01/12 10:55:34 WARN RowBasedKeyValueBatch: Calling spill() on RowBasedKeyValueBatch. Will not spill but return 0.\n",
            "25/01/12 10:55:34 WARN RowBasedKeyValueBatch: Calling spill() on RowBasedKeyValueBatch. Will not spill but return 0.\n",
            "25/01/12 10:55:34 WARN RowBasedKeyValueBatch: Calling spill() on RowBasedKeyValueBatch. Will not spill but return 0.\n",
            "25/01/12 10:55:34 WARN RowBasedKeyValueBatch: Calling spill() on RowBasedKeyValueBatch. Will not spill but return 0.\n",
            "25/01/12 10:55:34 WARN RowBasedKeyValueBatch: Calling spill() on RowBasedKeyValueBatch. Will not spill but return 0.\n",
            "25/01/12 10:55:34 WARN RowBasedKeyValueBatch: Calling spill() on RowBasedKeyValueBatch. Will not spill but return 0.\n",
            "25/01/12 10:55:34 WARN RowBasedKeyValueBatch: Calling spill() on RowBasedKeyValueBatch. Will not spill but return 0.\n",
            "                                                                                \r"
          ]
        },
        {
          "data": {
            "text/plain": [
              "<Axes: title={'center': 'Parallel Ingest Heat Map'}, xlabel='Group Number', ylabel='Batch'>"
            ]
          },
          "execution_count": 7,
          "metadata": {},
          "output_type": "execute_result"
        },
        {
          "data": {
            "image/png": "[encoded data removed]",
            "text/plain": [
              "<Figure size 800x1200 with 2 Axes>"
            ]
          },
          "metadata": {},
          "output_type": "display_data"
        }
      ],
      "source": [
        "create_ingest_heatmap(rel_batch_df)"
      ]
    },
    {
      "cell_type": "code",
      "execution_count": null,
      "metadata": {
        "jupyter": {
          "outputs_hidden": false,
          "source_hidden": false
        },
        "nteract": {
          "transient": {
            "deleting": false
          }
        }
      },
      "outputs": [],
      "source": [
        "query = \"\"\"\n",
        "    MATCH(source:Source {id: event.source_id})\n",
        "    MATCH(target:Target {id: event.target_id})\n",
        "    MERGE(source)-[r:RELATES_TO {timestamp:event.timestamp}]->(target)\n",
        "    SET r.rating = event.rating\n",
        "    \"\"\"\n",
        "\n",
        "ingest_spark_dataframe(\n",
        "    spark_dataframe=rel_batch_df,\n",
        "    save_mode= \"Overwrite\",\n",
        "    options={\"query\":query}\n",
        ")"
      ]
    },
    {
      "cell_type": "markdown",
      "metadata": {
        "nteract": {
          "transient": {
            "deleting": false
          }
        }
      },
      "source": [
        "## Delete rels"
      ]
    },
    {
      "cell_type": "code",
      "execution_count": null,
      "metadata": {
        "jupyter": {
          "outputs_hidden": false,
          "source_hidden": false
        },
        "nteract": {
          "transient": {
            "deleting": false
          }
        }
      },
      "outputs": [],
      "source": [
        "rel_count = rating_df.count()\n",
        "batch_count = rel_count // 10000 + 1\n",
        "print(rel_count, batch_count)"
      ]
    },
    {
      "cell_type": "code",
      "execution_count": null,
      "metadata": {
        "jupyter": {
          "outputs_hidden": false,
          "source_hidden": false
        },
        "nteract": {
          "transient": {
            "deleting": false
          }
        }
      },
      "outputs": [],
      "source": [
        "from pyspark.sql.functions import lit\n",
        "del_df = (spark.range(batch_count)\n",
        "    .select(lit(1).alias(\"id\")))\n",
        "print(del_df.count())"
      ]
    },
    {
      "cell_type": "code",
      "execution_count": null,
      "metadata": {
        "jupyter": {
          "outputs_hidden": false,
          "source_hidden": false
        },
        "nteract": {
          "transient": {
            "deleting": false
          }
        }
      },
      "outputs": [],
      "source": [
        "del_query = \"\"\"\n",
        "    MATCH ()-[r:RELATES_TO]->()\n",
        "    WITH r LIMIT 10000\n",
        "    DELETE r\"\"\"\n",
        "\n",
        "(\n",
        "    del_df.coalesce(1).write\n",
        "    .format(\"org.neo4j.spark.DataSource\")\n",
        "    .mode(\"Overwrite\")\n",
        "    .option(\"query\", del_query)\n",
        "    .option(\"batch.size\", 1)\n",
        "    .save()\n",
        ")"
      ]
    },
    {
      "cell_type": "markdown",
      "metadata": {
        "nteract": {
          "transient": {
            "deleting": false
          }
        }
      },
      "source": [
        "## Load rels serially"
      ]
    },
    {
      "cell_type": "code",
      "execution_count": null,
      "metadata": {
        "jupyter": {
          "outputs_hidden": false,
          "source_hidden": false
        },
        "nteract": {
          "transient": {
            "deleting": false
          }
        }
      },
      "outputs": [],
      "source": [
        "(\n",
        "    rating_df.repartition(1).write\n",
        "    .format(\"org.neo4j.spark.DataSource\")\n",
        "    .mode(\"Overwrite\")\n",
        "    .option(\"query\", query)\n",
        "    .save()\n",
        ")"
      ]
    }
  ],
  "metadata": {
    "description": null,
    "kernelspec": {
      "display_name": ".venv",
      "language": "python",
      "name": "python3"
    },
    "language_info": {
      "codemirror_mode": {
        "name": "ipython",
        "version": 3
      },
      "file_extension": ".py",
      "mimetype": "text/x-python",
      "name": "python",
      "nbconvert_exporter": "python",
      "pygments_lexer": "ipython3",
      "version": "3.12.3"
    },
    "save_output": true,
    "synapse_widget": {
      "state": {},
      "version": "0.1"
    }
  },
  "nbformat": 4,
  "nbformat_minor": 2
}
