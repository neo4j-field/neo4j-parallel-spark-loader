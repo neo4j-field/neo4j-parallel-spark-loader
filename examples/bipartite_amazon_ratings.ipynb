{
  "cells": [
    {
      "cell_type": "code",
      "execution_count": 6,
      "metadata": {},
      "outputs": [
        {
          "data": {
            "application/vnd.livy.statement-meta+json": {
              "execution_finish_time": "2025-01-11T19:03:23.0244336Z",
              "execution_start_time": "2025-01-11T19:03:22.8627505Z",
              "livy_statement_state": "available",
              "normalized_state": "finished",
              "parent_msg_id": "2b085336-8c6d-4adf-97f2-4132e4403687",
              "queued_time": "2025-01-11T19:03:22.102208Z",
              "session_id": "19",
              "session_start_time": null,
              "spark_jobs": null,
              "spark_pool": "medium",
              "state": "finished",
              "statement_id": 7,
              "statement_ids": [
                7
              ]
            },
            "text/plain": [
              "StatementMeta(medium, 19, 7, Finished, Available, Finished)"
            ]
          },
          "metadata": {},
          "output_type": "display_data"
        }
      ],
      "source": [
        "from pyspark.sql import SparkSession\n",
        "from pyspark.sql.types import StructType, StructField, IntegerType, FloatType\n",
        "import requests\n",
        "from io import BytesIO\n",
        "from zipfile import ZipFile\n",
        "from neo4j_parallel_spark_loader.bipartite import group_and_batch_spark_dataframe\n",
        "from neo4j_parallel_spark_loader import ingest_spark_dataframe\n"
      ]
    },
    {
      "cell_type": "markdown",
      "metadata": {
        "nteract": {
          "transient": {
            "deleting": false
          }
        }
      },
      "source": [
        "## Create spark session"
      ]
    },
    {
      "cell_type": "code",
      "execution_count": 2,
      "metadata": {
        "jupyter": {
          "outputs_hidden": false,
          "source_hidden": false
        },
        "nteract": {
          "transient": {
            "deleting": false
          }
        }
      },
      "outputs": [
        {
          "data": {
            "application/vnd.livy.statement-meta+json": {
              "execution_finish_time": "2025-01-11T18:59:51.2054347Z",
              "execution_start_time": "2025-01-11T18:59:51.0447282Z",
              "livy_statement_state": "available",
              "normalized_state": "finished",
              "parent_msg_id": "46cabf82-8138-47c2-9336-203da9e26e57",
              "queued_time": "2025-01-11T18:55:55.3501895Z",
              "session_id": "19",
              "session_start_time": null,
              "spark_jobs": null,
              "spark_pool": "medium",
              "state": "finished",
              "statement_id": 3,
              "statement_ids": [
                3
              ]
            },
            "text/plain": [
              "StatementMeta(medium, 19, 3, Finished, Available, Finished)"
            ]
          },
          "metadata": {},
          "output_type": "display_data"
        }
      ],
      "source": [
        "username = \"NEO4J_USER\"\n",
        "password = \"NEO4J_PASSWORD\"\n",
        "url = \"NEO4J_URL\"\n",
        "dbname = \"NEO4J_DATABASE\"\n",
        "spark_executor_count=5\n",
        "\n",
        "spark = (\n",
        "    SparkSession.builder\n",
        "    .appName(\"AmazonRatings\")\n",
        "    .config(\"neo4j.url\", url)\n",
        "    .config(\"url\", url)\n",
        "    .config(\"neo4j.authentication.basic.username\", username)\n",
        "    .config(\"neo4j.authentication.basic.password\", password)\n",
        "    .config(\"neo4j.database\", dbname)\n",
        "    .getOrCreate()\n",
        ")"
      ]
    },
    {
      "cell_type": "markdown",
      "metadata": {
        "nteract": {
          "transient": {
            "deleting": false
          }
        }
      },
      "source": [
        "## Download data"
      ]
    },
    {
      "cell_type": "code",
      "execution_count": 7,
      "metadata": {
        "jupyter": {
          "outputs_hidden": false,
          "source_hidden": false
        },
        "nteract": {
          "transient": {
            "deleting": false
          }
        }
      },
      "outputs": [
        {
          "data": {
            "application/vnd.livy.statement-meta+json": {
              "execution_finish_time": "2025-01-11T19:03:31.160049Z",
              "execution_start_time": "2025-01-11T19:03:25.850078Z",
              "livy_statement_state": "available",
              "normalized_state": "finished",
              "parent_msg_id": "de533a22-47ec-4a9c-aaf8-f1c21fb818e5",
              "queued_time": "2025-01-11T19:03:25.7041392Z",
              "session_id": "19",
              "session_start_time": null,
              "spark_jobs": null,
              "spark_pool": "medium",
              "state": "finished",
              "statement_id": 8,
              "statement_ids": [
                8
              ]
            },
            "text/plain": [
              "StatementMeta(medium, 19, 8, Finished, Available, Finished)"
            ]
          },
          "metadata": {},
          "output_type": "display_data"
        },
        {
          "name": "stdout",
          "output_type": "stream",
          "text": [
            "+---------+---------+------+----------+\n",
            "|source_id|target_id|rating| timestamp|\n",
            "+---------+---------+------+----------+\n",
            "|        1|        1|   5.0|1117404000|\n",
            "|        1|        2|   1.0|1105916400|\n",
            "|        1|        3|   5.0|1105916400|\n",
            "|        1|        4|   1.0|1105570800|\n",
            "|        1|        5|   1.0|1104966000|\n",
            "|        1|        6|   5.0|1103497200|\n",
            "|        1|        7|   4.0|1081461600|\n",
            "|        1|        8|   5.0|1074985200|\n",
            "|        1|        9|   5.0|1071961200|\n",
            "|        1|       10|   1.0|1071788400|\n",
            "|        1|       11|   4.0|1071702000|\n",
            "|        1|       12|   5.0|1070492400|\n",
            "|        1|       13|   5.0|1070319600|\n",
            "|        1|       14|   5.0|1066514400|\n",
            "|        1|       15|   4.0|1066341600|\n",
            "|        1|       16|   5.0|1066341600|\n",
            "|        1|       17|   5.0|1066168800|\n",
            "|        1|       18|   2.0|1065996000|\n",
            "|        1|       19|   5.0|1065909600|\n",
            "|        1|       20|   5.0|1065650400|\n",
            "+---------+---------+------+----------+\n",
            "only showing top 20 rows\n",
            "\n",
            "root\n",
            " |-- source_id: integer (nullable = true)\n",
            " |-- target_id: integer (nullable = true)\n",
            " |-- rating: float (nullable = true)\n",
            " |-- timestamp: integer (nullable = true)\n",
            "\n"
          ]
        }
      ],
      "source": [
        "# Define the schema\n",
        "schema = StructType([\n",
        "    StructField(\"source_id\", IntegerType(), True),\n",
        "    StructField(\"target_id\", IntegerType(), True),\n",
        "    StructField(\"rating\", FloatType(), True),\n",
        "    StructField(\"timestamp\", IntegerType(), True)\n",
        "])\n",
        "\n",
        "# Download the ZIP file\n",
        "response = requests.get(\"https://nrvis.com/download/data/dynamic/rec-amazon-ratings.zip\")\n",
        "zip_file = ZipFile(BytesIO(response.content))\n",
        "\n",
        "# Read the CSV file directly from the ZIP\n",
        "with zip_file.open(\"rec-amazon-ratings.edges\") as file:\n",
        "    # Convert to string buffer for Spark to read\n",
        "    content = file.read().decode('utf-8')\n",
        "    \n",
        "    # Create RDD from content\n",
        "    rdd = spark.sparkContext.parallelize(content.splitlines())\n",
        "    \n",
        "    # Convert RDD to DataFrame with schema\n",
        "    rating_df = spark.read.csv(rdd, schema=schema, header=False)\n",
        "\n",
        "# Now df is your Spark DataFrame containing the data with proper column names and types\n",
        "# You can verify the data\n",
        "rating_df.show()\n",
        "rating_df.printSchema()"
      ]
    },
    {
      "cell_type": "code",
      "execution_count": 8,
      "metadata": {
        "jupyter": {
          "outputs_hidden": false,
          "source_hidden": false
        },
        "nteract": {
          "transient": {
            "deleting": false
          }
        }
      },
      "outputs": [
        {
          "data": {
            "application/vnd.livy.statement-meta+json": {
              "execution_finish_time": "2025-01-11T19:03:43.4584278Z",
              "execution_start_time": "2025-01-11T19:03:39.0646295Z",
              "livy_statement_state": "available",
              "normalized_state": "finished",
              "parent_msg_id": "e387e6cb-4355-4128-baad-c2eccad4ca78",
              "queued_time": "2025-01-11T19:03:38.9431924Z",
              "session_id": "19",
              "session_start_time": null,
              "spark_jobs": null,
              "spark_pool": "medium",
              "state": "finished",
              "statement_id": 9,
              "statement_ids": [
                9
              ]
            },
            "text/plain": [
              "StatementMeta(medium, 19, 9, Finished, Available, Finished)"
            ]
          },
          "metadata": {},
          "output_type": "display_data"
        },
        {
          "data": {
            "text/plain": [
              "5838041"
            ]
          },
          "execution_count": 19,
          "metadata": {},
          "output_type": "execute_result"
        }
      ],
      "source": [
        "rating_df.count()"
      ]
    },
    {
      "cell_type": "markdown",
      "metadata": {
        "nteract": {
          "transient": {
            "deleting": false
          }
        }
      },
      "source": [
        "## Load nodes"
      ]
    },
    {
      "cell_type": "code",
      "execution_count": 11,
      "metadata": {
        "jupyter": {
          "outputs_hidden": false,
          "source_hidden": false
        },
        "nteract": {
          "transient": {
            "deleting": false
          }
        }
      },
      "outputs": [
        {
          "data": {
            "application/vnd.livy.statement-meta+json": {
              "execution_finish_time": "2025-01-11T19:13:20.0134295Z",
              "execution_start_time": "2025-01-11T19:12:59.1775369Z",
              "livy_statement_state": "available",
              "normalized_state": "finished",
              "parent_msg_id": "f6a2aa90-0280-43ba-9760-a3ebf360b3f1",
              "queued_time": "2025-01-11T19:12:59.0570586Z",
              "session_id": "19",
              "session_start_time": null,
              "spark_jobs": null,
              "spark_pool": "medium",
              "state": "finished",
              "statement_id": 12,
              "statement_ids": [
                12
              ]
            },
            "text/plain": [
              "StatementMeta(medium, 19, 12, Finished, Available, Finished)"
            ]
          },
          "metadata": {},
          "output_type": "display_data"
        }
      ],
      "source": [
        "(\n",
        "    rating_df\n",
        "    .select(\"source_id\")\n",
        "    .distinct()\n",
        "    .write\n",
        "    .format(\"org.neo4j.spark.DataSource\")\n",
        "    .mode(\"Overwrite\")\n",
        "    .option(\"labels\", \":Source\")\n",
        "    .option(\"node.keys\", \"source_id:id\")\n",
        "    .option(\"schema.optimization.node.keys\", \"KEY\")\n",
        "    .save()\n",
        ")"
      ]
    },
    {
      "cell_type": "code",
      "execution_count": 12,
      "metadata": {
        "jupyter": {
          "outputs_hidden": false,
          "source_hidden": false
        },
        "nteract": {
          "transient": {
            "deleting": false
          }
        }
      },
      "outputs": [
        {
          "data": {
            "application/vnd.livy.statement-meta+json": {
              "execution_finish_time": "2025-01-11T19:13:32.73651Z",
              "execution_start_time": "2025-01-11T19:13:20.1492446Z",
              "livy_statement_state": "available",
              "normalized_state": "finished",
              "parent_msg_id": "b3e17212-f06f-4393-9332-2857c9b9d076",
              "queued_time": "2025-01-11T19:13:00.034665Z",
              "session_id": "19",
              "session_start_time": null,
              "spark_jobs": null,
              "spark_pool": "medium",
              "state": "finished",
              "statement_id": 13,
              "statement_ids": [
                13
              ]
            },
            "text/plain": [
              "StatementMeta(medium, 19, 13, Finished, Available, Finished)"
            ]
          },
          "metadata": {},
          "output_type": "display_data"
        }
      ],
      "source": [
        "(\n",
        "    rating_df\n",
        "    .select(\"target_id\")\n",
        "    .distinct()\n",
        "    .write\n",
        "    .format(\"org.neo4j.spark.DataSource\")\n",
        "    .mode(\"Overwrite\")\n",
        "    .option(\"labels\", \":Target\")\n",
        "    .option(\"node.keys\", \"target_id:id\")\n",
        "    .option(\"schema.optimization.node.keys\", \"KEY\")\n",
        "    .save()\n",
        ")"
      ]
    },
    {
      "cell_type": "markdown",
      "metadata": {
        "nteract": {
          "transient": {
            "deleting": false
          }
        }
      },
      "source": [
        "## Load rels"
      ]
    },
    {
      "cell_type": "code",
      "execution_count": 9,
      "metadata": {
        "jupyter": {
          "outputs_hidden": false,
          "source_hidden": false
        },
        "nteract": {
          "transient": {
            "deleting": false
          }
        }
      },
      "outputs": [
        {
          "data": {
            "application/vnd.livy.statement-meta+json": {
              "execution_finish_time": "2025-01-11T19:10:35.8072375Z",
              "execution_start_time": "2025-01-11T19:08:40.1552582Z",
              "livy_statement_state": "available",
              "normalized_state": "finished",
              "parent_msg_id": "3f09d80c-27df-4086-80f0-62d78f848826",
              "queued_time": "2025-01-11T19:08:40.0073078Z",
              "session_id": "19",
              "session_start_time": null,
              "spark_jobs": null,
              "spark_pool": "medium",
              "state": "finished",
              "statement_id": 10,
              "statement_ids": [
                10
              ]
            },
            "text/plain": [
              "StatementMeta(medium, 19, 10, Finished, Available, Finished)"
            ]
          },
          "metadata": {},
          "output_type": "display_data"
        }
      ],
      "source": [
        "rel_batch_df = group_and_batch_spark_dataframe(spark_dataframe=rating_df, \n",
        "                                               source_col='source_id', \n",
        "                                               target_col='target_id', \n",
        "                                               num_groups=spark_executor_count)"
      ]
    },
    {
      "cell_type": "code",
      "execution_count": 10,
      "metadata": {
        "jupyter": {
          "outputs_hidden": false,
          "source_hidden": false
        },
        "nteract": {
          "transient": {
            "deleting": false
          }
        }
      },
      "outputs": [
        {
          "data": {
            "application/vnd.livy.statement-meta+json": {
              "execution_finish_time": "2025-01-11T19:10:40.0880121Z",
              "execution_start_time": "2025-01-11T19:10:36.1206943Z",
              "livy_statement_state": "available",
              "normalized_state": "finished",
              "parent_msg_id": "c900169a-def3-41fd-99d3-2fb76a40b836",
              "queued_time": "2025-01-11T19:09:19.0361583Z",
              "session_id": "19",
              "session_start_time": null,
              "spark_jobs": null,
              "spark_pool": "medium",
              "state": "finished",
              "statement_id": 11,
              "statement_ids": [
                11
              ]
            },
            "text/plain": [
              "StatementMeta(medium, 19, 11, Finished, Available, Finished)"
            ]
          },
          "metadata": {},
          "output_type": "display_data"
        },
        {
          "name": "stdout",
          "output_type": "stream",
          "text": [
            "+---------+---------+------+----------+-------+-----+\n",
            "|source_id|target_id|rating| timestamp|  group|batch|\n",
            "+---------+---------+------+----------+-------+-----+\n",
            "|        1|        7|   4.0|1081461600|3 --> 4|    2|\n",
            "|        1|       19|   5.0|1065909600|3 --> 3|    1|\n",
            "|    13417|      110|   5.0|1102806000|4 --> 2|    1|\n",
            "|   398740|     1497|   5.0| 999554400|4 --> 3|    2|\n",
            "|    55714|     6452|   5.0|1101769200|4 --> 4|    3|\n",
            "|   758089|     8282|   5.0|1024178400|3 --> 4|    2|\n",
            "|   758100|     9000|   4.0|1015714800|0 --> 0|    0|\n",
            "|   563976|    10287|   3.0|1098655200|4 --> 4|    3|\n",
            "|    28574|    14304|   1.0|1093039200|1 --> 4|    0|\n",
            "|   968213|    18887|   4.0|1056146400|2 --> 2|    4|\n",
            "|     6791|    23365|   4.0|1096322400|0 --> 2|    2|\n",
            "|     6791|    23365|   4.0|1096322400|0 --> 2|    2|\n",
            "|    94201|    26022|   4.0|1065304800|2 --> 4|    1|\n",
            "|    55711|    31486|   1.0|1082844000|2 --> 3|    0|\n",
            "|    55711|    31486|   1.0|1082844000|2 --> 3|    0|\n",
            "|   758084|    33837|   5.0|1015542000|1 --> 0|    1|\n",
            "|    55712|    49215|   4.0|1068246000|2 --> 0|    2|\n",
            "|     6791|    53906|   4.0|1096408800|0 --> 1|    1|\n",
            "|    28574|    54493|   3.0|1093039200|1 --> 0|    1|\n",
            "|    28574|    58905|   1.0|1093039200|1 --> 1|    2|\n",
            "+---------+---------+------+----------+-------+-----+\n",
            "only showing top 20 rows\n",
            "\n"
          ]
        }
      ],
      "source": [
        "rel_batch_df.show()"
      ]
    },
    {
      "cell_type": "code",
      "execution_count": 18,
      "metadata": {
        "jupyter": {
          "outputs_hidden": false,
          "source_hidden": false
        },
        "nteract": {
          "transient": {
            "deleting": false
          }
        }
      },
      "outputs": [
        {
          "data": {
            "application/vnd.livy.statement-meta+json": {
              "execution_finish_time": "2025-01-11T19:35:18.8392667Z",
              "execution_start_time": "2025-01-11T19:30:29.4126282Z",
              "livy_statement_state": "available",
              "normalized_state": "finished",
              "parent_msg_id": "c4010936-6bbf-453c-a2d4-ea2148e55c00",
              "queued_time": "2025-01-11T19:30:29.2741482Z",
              "session_id": "19",
              "session_start_time": null,
              "spark_jobs": null,
              "spark_pool": "medium",
              "state": "finished",
              "statement_id": 19,
              "statement_ids": [
                19
              ]
            },
            "text/plain": [
              "StatementMeta(medium, 19, 19, Finished, Available, Finished)"
            ]
          },
          "metadata": {},
          "output_type": "display_data"
        }
      ],
      "source": [
        "query = \"\"\"\n",
        "    MATCH(source:Source {id: event.source_id})\n",
        "    MATCH(target:Target {id: event.target_id})\n",
        "    MERGE(source)-[r:RELATES_TO {timestamp:event.timestamp}]->(target)\n",
        "    SET r.rating = event.rating\n",
        "    \"\"\"\n",
        "\n",
        "ingest_spark_dataframe(\n",
        "    spark_dataframe=rel_batch_df,\n",
        "    save_mode= \"Overwrite\",\n",
        "    options={\"query\":query}\n",
        ")"
      ]
    },
    {
      "cell_type": "markdown",
      "metadata": {
        "nteract": {
          "transient": {
            "deleting": false
          }
        }
      },
      "source": [
        "## Delete rels"
      ]
    },
    {
      "cell_type": "code",
      "execution_count": 25,
      "metadata": {
        "jupyter": {
          "outputs_hidden": false,
          "source_hidden": false
        },
        "nteract": {
          "transient": {
            "deleting": false
          }
        }
      },
      "outputs": [
        {
          "data": {
            "application/vnd.livy.statement-meta+json": {
              "execution_finish_time": "2025-01-11T19:41:05.7149646Z",
              "execution_start_time": "2025-01-11T19:41:01.7596122Z",
              "livy_statement_state": "available",
              "normalized_state": "finished",
              "parent_msg_id": "c17aaaf8-6ede-4ee6-81f9-2a4f75464c33",
              "queued_time": "2025-01-11T19:41:01.6354079Z",
              "session_id": "19",
              "session_start_time": null,
              "spark_jobs": null,
              "spark_pool": "medium",
              "state": "finished",
              "statement_id": 26,
              "statement_ids": [
                26
              ]
            },
            "text/plain": [
              "StatementMeta(medium, 19, 26, Finished, Available, Finished)"
            ]
          },
          "metadata": {},
          "output_type": "display_data"
        },
        {
          "name": "stdout",
          "output_type": "stream",
          "text": [
            "5838041 584\n"
          ]
        }
      ],
      "source": [
        "rel_count = rating_df.count()\n",
        "batch_count = rel_count // 10000 + 1\n",
        "print(rel_count, batch_count)"
      ]
    },
    {
      "cell_type": "code",
      "execution_count": 26,
      "metadata": {
        "jupyter": {
          "outputs_hidden": false,
          "source_hidden": false
        },
        "nteract": {
          "transient": {
            "deleting": false
          }
        }
      },
      "outputs": [
        {
          "data": {
            "application/vnd.livy.statement-meta+json": {
              "execution_finish_time": "2025-01-11T19:41:10.2940843Z",
              "execution_start_time": "2025-01-11T19:41:09.7728004Z",
              "livy_statement_state": "available",
              "normalized_state": "finished",
              "parent_msg_id": "d620521c-b189-4703-a2b6-dcffda5ce9b5",
              "queued_time": "2025-01-11T19:41:09.6172495Z",
              "session_id": "19",
              "session_start_time": null,
              "spark_jobs": null,
              "spark_pool": "medium",
              "state": "finished",
              "statement_id": 27,
              "statement_ids": [
                27
              ]
            },
            "text/plain": [
              "StatementMeta(medium, 19, 27, Finished, Available, Finished)"
            ]
          },
          "metadata": {},
          "output_type": "display_data"
        },
        {
          "name": "stdout",
          "output_type": "stream",
          "text": [
            "584\n"
          ]
        }
      ],
      "source": [
        "from pyspark.sql.functions import lit\n",
        "del_df = (spark.range(batch_count)\n",
        "    .select(lit(1).alias(\"id\")))\n",
        "print(del_df.count())"
      ]
    },
    {
      "cell_type": "code",
      "execution_count": 27,
      "metadata": {
        "jupyter": {
          "outputs_hidden": false,
          "source_hidden": false
        },
        "nteract": {
          "transient": {
            "deleting": false
          }
        }
      },
      "outputs": [
        {
          "data": {
            "application/vnd.livy.statement-meta+json": {
              "execution_finish_time": "2025-01-11T19:47:33.4788284Z",
              "execution_start_time": "2025-01-11T19:42:38.3485714Z",
              "livy_statement_state": "available",
              "normalized_state": "finished",
              "parent_msg_id": "eab7a384-7dfb-40aa-86f4-b422ab134efa",
              "queued_time": "2025-01-11T19:42:38.2082178Z",
              "session_id": "19",
              "session_start_time": null,
              "spark_jobs": null,
              "spark_pool": "medium",
              "state": "finished",
              "statement_id": 28,
              "statement_ids": [
                28
              ]
            },
            "text/plain": [
              "StatementMeta(medium, 19, 28, Finished, Available, Finished)"
            ]
          },
          "metadata": {},
          "output_type": "display_data"
        }
      ],
      "source": [
        "del_query = \"\"\"\n",
        "    MATCH ()-[r:RELATES_TO]->()\n",
        "    WITH r LIMIT 10000\n",
        "    DELETE r\"\"\"\n",
        "\n",
        "(\n",
        "    del_df.coalesce(1).write\n",
        "    .format(\"org.neo4j.spark.DataSource\")\n",
        "    .mode(\"Overwrite\")\n",
        "    .option(\"query\", del_query)\n",
        "    .option(\"batch.size\", 1)\n",
        "    .save()\n",
        ")"
      ]
    },
    {
      "cell_type": "markdown",
      "metadata": {
        "nteract": {
          "transient": {
            "deleting": false
          }
        }
      },
      "source": [
        "## Load rels serially"
      ]
    },
    {
      "cell_type": "code",
      "execution_count": 29,
      "metadata": {
        "jupyter": {
          "outputs_hidden": false,
          "source_hidden": false
        },
        "nteract": {
          "transient": {
            "deleting": false
          }
        }
      },
      "outputs": [
        {
          "data": {
            "application/vnd.livy.statement-meta+json": {
              "execution_finish_time": "2025-01-11T20:00:12.8762123Z",
              "execution_start_time": "2025-01-11T19:51:49.7653219Z",
              "livy_statement_state": "available",
              "normalized_state": "finished",
              "parent_msg_id": "bfcbca3f-7389-44c8-8b19-035d4be4dc2a",
              "queued_time": "2025-01-11T19:51:49.637572Z",
              "session_id": "19",
              "session_start_time": null,
              "spark_jobs": null,
              "spark_pool": "medium",
              "state": "finished",
              "statement_id": 30,
              "statement_ids": [
                30
              ]
            },
            "text/plain": [
              "StatementMeta(medium, 19, 30, Finished, Available, Finished)"
            ]
          },
          "metadata": {},
          "output_type": "display_data"
        }
      ],
      "source": [
        "(\n",
        "    rating_df.repartition(1).write\n",
        "    .format(\"org.neo4j.spark.DataSource\")\n",
        "    .mode(\"Overwrite\")\n",
        "    .option(\"query\", query)\n",
        "    .save()\n",
        ")"
      ]
    }
  ],
  "metadata": {
    "description": null,
    "kernelspec": {
      "display_name": "python",
      "name": "synapse_pyspark"
    },
    "language_info": {
      "name": "python"
    },
    "save_output": true,
    "synapse_widget": {
      "state": {},
      "version": "0.1"
    }
  },
  "nbformat": 4,
  "nbformat_minor": 2
}
