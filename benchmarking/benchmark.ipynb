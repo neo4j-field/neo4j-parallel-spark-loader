{
 "cells": [
  {
   "cell_type": "markdown",
   "metadata": {},
   "source": [
    "# Neo4j Parallel Spark Loader Benchmarking"
   ]
  },
  {
   "cell_type": "markdown",
   "metadata": {},
   "source": [
    "This notebooks evaluates the performance of the `neo4j-parallel-spark-loader` library vs loading serially. "
   ]
  },
  {
   "cell_type": "markdown",
   "metadata": {},
   "source": [
    "## Imports"
   ]
  },
  {
   "cell_type": "code",
   "execution_count": 1,
   "metadata": {},
   "outputs": [],
   "source": [
    "import os\n",
    "import timeit\n",
    "from typing import Literal\n",
    "\n",
    "from pyspark.sql import DataFrame, SparkSession\n",
    "\n",
    "from neo4j_parallel_spark_loader import bipartite, monopartite, predefined_components, ingest_spark_dataframe\n",
    "from benchmarking.utils.spark import create_spark_session\n",
    "from benchmarking.utils.database import *"
   ]
  },
  {
   "cell_type": "markdown",
   "metadata": {},
   "source": [
    "## Create Spark Session"
   ]
  },
  {
   "cell_type": "code",
   "execution_count": 2,
   "metadata": {},
   "outputs": [
    {
     "name": "stderr",
     "output_type": "stream",
     "text": [
      "Warning: Ignoring non-Spark config property: neo4j.url\n",
      "Warning: Ignoring non-Spark config property: url\n",
      "Warning: Ignoring non-Spark config property: neo4j.authentication.basic.password\n",
      "Warning: Ignoring non-Spark config property: neo4j.authentication.type\n",
      "Warning: Ignoring non-Spark config property: neo4j.authentication.basic.username\n",
      "Ivy Default Cache set to: /Users/alexandergilmore/.ivy2/cache\n",
      "The jars for the packages stored in: /Users/alexandergilmore/.ivy2/jars\n",
      "org.neo4j#neo4j-connector-apache-spark_2.12 added as a dependency\n",
      ":: resolving dependencies :: org.apache.spark#spark-submit-parent-ec73106a-7a09-4927-94cc-0c5f64a8b167;1.0\n",
      "\tconfs: [default]\n"
     ]
    },
    {
     "name": "stdout",
     "output_type": "stream",
     "text": [
      ":: loading settings :: url = jar:file:/Users/alexandergilmore/Documents/projects/neo4j-parallel-spark-loader/.venv/lib/python3.12/site-packages/pyspark/jars/ivy-2.5.1.jar!/org/apache/ivy/core/settings/ivysettings.xml\n"
     ]
    },
    {
     "name": "stderr",
     "output_type": "stream",
     "text": [
      "\tfound org.neo4j#neo4j-connector-apache-spark_2.12;5.1.0_for_spark_3 in central\n",
      "\tfound org.neo4j#neo4j-connector-apache-spark_2.12_common;5.1.0 in central\n",
      "\tfound org.neo4j.driver#neo4j-java-driver;4.4.12 in central\n",
      "\tfound org.reactivestreams#reactive-streams;1.0.4 in local-m2-cache\n",
      "\tfound org.apache.xbean#xbean-asm6-shaded;4.10 in central\n",
      "\tfound org.neo4j#neo4j-cypher-dsl;2022.9.0 in central\n",
      "\tfound org.apiguardian#apiguardian-api;1.1.2 in local-m2-cache\n",
      ":: resolution report :: resolve 140ms :: artifacts dl 5ms\n",
      "\t:: modules in use:\n",
      "\torg.apache.xbean#xbean-asm6-shaded;4.10 from central in [default]\n",
      "\torg.apiguardian#apiguardian-api;1.1.2 from local-m2-cache in [default]\n",
      "\torg.neo4j#neo4j-connector-apache-spark_2.12;5.1.0_for_spark_3 from central in [default]\n",
      "\torg.neo4j#neo4j-connector-apache-spark_2.12_common;5.1.0 from central in [default]\n",
      "\torg.neo4j#neo4j-cypher-dsl;2022.9.0 from central in [default]\n",
      "\torg.neo4j.driver#neo4j-java-driver;4.4.12 from central in [default]\n",
      "\torg.reactivestreams#reactive-streams;1.0.4 from local-m2-cache in [default]\n",
      "\t---------------------------------------------------------------------\n",
      "\t|                  |            modules            ||   artifacts   |\n",
      "\t|       conf       | number| search|dwnlded|evicted|| number|dwnlded|\n",
      "\t---------------------------------------------------------------------\n",
      "\t|      default     |   7   |   0   |   0   |   0   ||   7   |   0   |\n",
      "\t---------------------------------------------------------------------\n",
      ":: retrieving :: org.apache.spark#spark-submit-parent-ec73106a-7a09-4927-94cc-0c5f64a8b167\n",
      "\tconfs: [default]\n",
      "\t0 artifacts copied, 7 already retrieved (0kB/3ms)\n",
      "25/01/06 17:32:59 WARN NativeCodeLoader: Unable to load native-hadoop library for your platform... using builtin-java classes where applicable\n",
      "Setting default log level to \"WARN\".\n",
      "To adjust logging level use sc.setLogLevel(newLevel). For SparkR, use setLogLevel(newLevel).\n"
     ]
    }
   ],
   "source": [
    "spark_session: SparkSession = create_spark_session()"
   ]
  },
  {
   "cell_type": "markdown",
   "metadata": {},
   "source": [
    "## Load Data"
   ]
  },
  {
   "cell_type": "code",
   "execution_count": 3,
   "metadata": {},
   "outputs": [],
   "source": [
    "def load_data_into_spark_dataframe(category: Literal[\"bipartite\", \"monopartite\", \"predefined_components\"]) -> DataFrame:\n",
    "    file_path = f\"data/{category}_data.csv\"\n",
    "    # csv_name = os.listdir(file_path)[0]\n",
    "\n",
    "    return spark_session.read.option(\"header\", True).csv(file_path)"
   ]
  },
  {
   "cell_type": "code",
   "execution_count": 4,
   "metadata": {},
   "outputs": [],
   "source": [
    "bp_sdf = load_data_into_spark_dataframe(\"bipartite\")"
   ]
  },
  {
   "cell_type": "code",
   "execution_count": 5,
   "metadata": {},
   "outputs": [
    {
     "data": {
      "text/plain": [
       "'neo4j://localhost:7687'"
      ]
     },
     "execution_count": 5,
     "metadata": {},
     "output_type": "execute_result"
    }
   ],
   "source": [
    "bp_sdf.sparkSession.conf.get(\"neo4j.url\")"
   ]
  },
  {
   "cell_type": "code",
   "execution_count": 6,
   "metadata": {},
   "outputs": [],
   "source": [
    "mp_sdf = load_data_into_spark_dataframe(\"monopartite\")"
   ]
  },
  {
   "cell_type": "code",
   "execution_count": 7,
   "metadata": {},
   "outputs": [],
   "source": [
    "pc_sdf = load_data_into_spark_dataframe(\"predefined_components\")"
   ]
  },
  {
   "cell_type": "markdown",
   "metadata": {},
   "source": [
    "## Benchmarking"
   ]
  },
  {
   "cell_type": "markdown",
   "metadata": {},
   "source": [
    "### Set Up Tasks"
   ]
  },
  {
   "cell_type": "code",
   "execution_count": 8,
   "metadata": {},
   "outputs": [],
   "source": [
    "ingest_functions = {\n",
    "    \"bipartite\": {\"serial\": load_bipartite_relationships_in_serial, \n",
    "                  \"parallel\": load_bipartite_relationships_in_parallel,\n",
    "                  \"nodes\": load_bipartite_nodes},\n",
    "    \"monopartite\": {\"serial\": load_monopartite_relationships_in_serial, \n",
    "                    \"parallel\": load_monopartite_relationships_in_parallel,\n",
    "                    \"nodes\": load_monopartite_nodes},\n",
    "    \"predefined_components\": {\"serial\": load_bipartite_relationships_in_serial, # using bipartite data\n",
    "                              \"parallel\": load_predefined_components_relationships_in_parallel,\n",
    "                              \"nodes\": load_bipartite_nodes},\n",
    "}"
   ]
  },
  {
   "cell_type": "code",
   "execution_count": null,
   "metadata": {},
   "outputs": [],
   "source": [
    "sample_sizes = [10, 100, 1_000, 10_000, 100_000]\n",
    "sample_fractions = [0.0001, 0.001, 0.01, 0.1, 1.0]\n",
    "\n",
    "sdfs = {0: bp_sdf, 2: mp_sdf, 4: pc_sdf}\n",
    "\n",
    "unsampled_tasks = [\n",
    "{\"graph_structure\": \"bipartite\", \"load_strategy\": \"serial\", \"num_groups\": None},\n",
    "{\"graph_structure\": \"bipartite\", \"load_strategy\": \"parallel\", \"num_groups\": 3},\n",
    "{\"graph_structure\": \"monopartite\", \"load_strategy\": \"serial\",  \"num_groups\": None},\n",
    "{\"graph_structure\": \"monopartite\", \"load_strategy\": \"parallel\", \"num_groups\": 5},\n",
    "{\"graph_structure\": \"predefined_components\", \"load_strategy\": \"serial\",  \"num_groups\": None},\n",
    "{\"graph_structure\": \"predefined_components\", \"load_strategy\": \"parallel\", \"num_groups\": 3},\n",
    "]"
   ]
  },
  {
   "cell_type": "code",
   "execution_count": 10,
   "metadata": {},
   "outputs": [],
   "source": [
    "from benchmarking.utils.results import create_results_dataframe, append_results_to_dataframe, generate_benchmark_results, save_dataframe"
   ]
  },
  {
   "cell_type": "markdown",
   "metadata": {},
   "source": [
    "### Run Benchmarking"
   ]
  },
  {
   "cell_type": "code",
   "execution_count": 11,
   "metadata": {},
   "outputs": [],
   "source": [
    "from benchmarking.utils.healthcheck import healthcheck\n",
    "from benchmarking.utils.neo4j_driver import create_neo4j_driver"
   ]
  },
  {
   "cell_type": "code",
   "execution_count": 12,
   "metadata": {},
   "outputs": [],
   "source": [
    "neo4j_driver = create_neo4j_driver()"
   ]
  },
  {
   "cell_type": "code",
   "execution_count": 13,
   "metadata": {},
   "outputs": [],
   "source": [
    "results_df = create_results_dataframe()"
   ]
  },
  {
   "cell_type": "code",
   "execution_count": 14,
   "metadata": {},
   "outputs": [
    {
     "name": "stdout",
     "output_type": "stream",
     "text": [
      "bipartite\n"
     ]
    },
    {
     "name": "stderr",
     "output_type": "stream",
     "text": [
      "/Users/alexandergilmore/Documents/projects/neo4j-parallel-spark-loader/benchmarking/utils/results.py:26: FutureWarning: The behavior of DataFrame concatenation with empty or all-NA entries is deprecated. In a future version, this will no longer exclude empty or all-NA columns when determining the result dtypes. To retain the old behavior, exclude the relevant entries before the concat operation.\n",
      "  return pd.concat([target_dataframe, pd.DataFrame([new_data])], ignore_index=False)\n",
      "                                                                                \r"
     ]
    },
    {
     "name": "stdout",
     "output_type": "stream",
     "text": [
      "\n",
      "Waiting for Neo4j to Start...\n",
      "\n",
      "3.3300000000000005% Complete\n",
      "\n",
      "Waiting for Neo4j to Start...\n",
      "\n",
      "6.67% Complete\n",
      "\n",
      "Waiting for Neo4j to Start...\n",
      "\n",
      "10.0% Complete\n"
     ]
    },
    {
     "name": "stderr",
     "output_type": "stream",
     "text": [
      "                                                                                \r"
     ]
    },
    {
     "name": "stdout",
     "output_type": "stream",
     "text": [
      "\n",
      "Waiting for Neo4j to Start...\n",
      "\n",
      "13.33% Complete\n"
     ]
    },
    {
     "name": "stderr",
     "output_type": "stream",
     "text": [
      "                                                                                \r"
     ]
    },
    {
     "name": "stdout",
     "output_type": "stream",
     "text": [
      "\n",
      "Waiting for Neo4j to Start...\n",
      "\n",
      "16.669999999999998% Complete\n",
      "monopartite\n",
      "\n",
      "Waiting for Neo4j to Start...\n",
      "\n",
      "20.0% Complete\n",
      "\n",
      "Waiting for Neo4j to Start...\n",
      "\n",
      "23.330000000000002% Complete\n"
     ]
    },
    {
     "name": "stderr",
     "output_type": "stream",
     "text": [
      "                                                                                \r"
     ]
    },
    {
     "name": "stdout",
     "output_type": "stream",
     "text": [
      "\n",
      "Waiting for Neo4j to Start...\n",
      "\n",
      "26.669999999999998% Complete\n"
     ]
    },
    {
     "name": "stderr",
     "output_type": "stream",
     "text": [
      "                                                                                \r"
     ]
    },
    {
     "name": "stdout",
     "output_type": "stream",
     "text": [
      "\n",
      "Waiting for Neo4j to Start...\n",
      "\n",
      "30.0% Complete\n"
     ]
    },
    {
     "name": "stderr",
     "output_type": "stream",
     "text": [
      "                                                                                \r"
     ]
    },
    {
     "name": "stdout",
     "output_type": "stream",
     "text": [
      "\n",
      "Waiting for Neo4j to Start...\n",
      "\n",
      "33.33% Complete\n",
      "predefined_components\n",
      "\n",
      "Waiting for Neo4j to Start...\n",
      "\n",
      "36.67% Complete\n",
      "\n",
      "Waiting for Neo4j to Start...\n",
      "\n",
      "40.0% Complete\n",
      "\n",
      "Waiting for Neo4j to Start...\n",
      "\n",
      "43.33% Complete\n",
      "\n",
      "Waiting for Neo4j to Start...\n",
      "\n",
      "46.67% Complete\n"
     ]
    },
    {
     "name": "stderr",
     "output_type": "stream",
     "text": [
      "                                                                                \r"
     ]
    },
    {
     "name": "stdout",
     "output_type": "stream",
     "text": [
      "\n",
      "Waiting for Neo4j to Start...\n",
      "\n",
      "50.0% Complete\n"
     ]
    }
   ],
   "source": [
    "from datetime import datetime\n",
    "\n",
    "ts = str(datetime.now())\n",
    "\n",
    "counter = 0\n",
    "for idx in range(0, len(unsampled_tasks), 2):\n",
    "    print(unsampled_tasks[idx].get(\"graph_structure\"))\n",
    "    for s in sample_sizes:\n",
    "        sampled_sdf = sdfs.get(idx).sample(s / 100000.0)\n",
    "\n",
    "        # create constraints\n",
    "        # create_constraints(spark_session=spark_session)\n",
    "\n",
    "        graph_structure = unsampled_tasks[idx].get(\"graph_structure\")\n",
    "\n",
    "        # load nodes\n",
    "        fn = ingest_functions.get(graph_structure).get(\"nodes\")\n",
    "        fn(sampled_sdf)\n",
    "\n",
    "        # load relationships\n",
    "        load_strategy = unsampled_tasks[idx].get(\"load_strategy\")\n",
    "        num_groups = unsampled_tasks[idx].get(\"num_groups\")\n",
    "        # idx\n",
    "        results_row = generate_benchmark_results(spark_dataframe=sampled_sdf, \n",
    "                                                 graph_structure=graph_structure, \n",
    "                                                 ingest_function=ingest_functions.get(graph_structure).get(load_strategy),\n",
    "                                                 load_strategy=load_strategy,\n",
    "                                                 num_groups=num_groups if load_strategy == \"parallel\" else None)\n",
    "        results_df = append_results_to_dataframe(results_df, results_row)\n",
    "        \n",
    "        save_dataframe(results_df, ts)\n",
    "\n",
    "        # clean up relationships\n",
    "        delete_relationships(spark_session=spark_session)\n",
    "\n",
    "        # idx + 1\n",
    "        load_strategy = unsampled_tasks[idx+1].get(\"load_strategy\")\n",
    "        num_groups = unsampled_tasks[idx+1].get(\"num_groups\")\n",
    "        results_row = generate_benchmark_results(spark_dataframe=sampled_sdf, \n",
    "                                                 graph_structure=graph_structure, \n",
    "                                                 ingest_function=ingest_functions.get(graph_structure).get(load_strategy),\n",
    "                                                 load_strategy=load_strategy,\n",
    "                                                 num_groups=num_groups if load_strategy == \"parallel\" else None)\n",
    "        results_df = append_results_to_dataframe(results_df, results_row)\n",
    "\n",
    "        save_dataframe(results_df, ts)\n",
    "\n",
    "        # refresh database\n",
    "        restore_database(neo4j_driver=neo4j_driver)\n",
    "\n",
    "        healthcheck(neo4j_driver=neo4j_driver)\n",
    "        \n",
    "        counter+=1\n",
    "        print(f\"{round(counter / 30.0, 4) * 100}% Complete\")\n",
    "        \n",
    "\n",
    "neo4j_driver.close()\n",
    "        "
   ]
  },
  {
   "cell_type": "code",
   "execution_count": null,
   "metadata": {},
   "outputs": [],
   "source": []
  }
 ],
 "metadata": {
  "kernelspec": {
   "display_name": ".venv",
   "language": "python",
   "name": "python3"
  },
  "language_info": {
   "codemirror_mode": {
    "name": "ipython",
    "version": 3
   },
   "file_extension": ".py",
   "mimetype": "text/x-python",
   "name": "python",
   "nbconvert_exporter": "python",
   "pygments_lexer": "ipython3",
   "version": "3.12.3"
  }
 },
 "nbformat": 4,
 "nbformat_minor": 2
}
