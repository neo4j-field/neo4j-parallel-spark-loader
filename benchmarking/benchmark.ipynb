{
 "cells": [
  {
   "cell_type": "markdown",
   "metadata": {},
   "source": [
    "# Neo4j Parallel Spark Loader Benchmarking"
   ]
  },
  {
   "cell_type": "markdown",
   "metadata": {},
   "source": [
    "This notebooks evaluates the performance of the `neo4j-parallel-spark-loader` library vs loading serially. "
   ]
  },
  {
   "cell_type": "markdown",
   "metadata": {},
   "source": [
    "## Imports"
   ]
  },
  {
   "cell_type": "code",
   "execution_count": 7,
   "metadata": {},
   "outputs": [],
   "source": [
    "import os\n",
    "import timeit\n",
    "from typing import Literal\n",
    "\n",
    "from pyspark.sql import DataFrame, SparkSession\n",
    "\n",
    "from neo4j_parallel_spark_loader import bipartite, monopartite, predefined_components, ingest_spark_dataframe\n",
    "from benchmarking.utils.spark import create_spark_session\n",
    "from benchmarking.utils.database import *"
   ]
  },
  {
   "cell_type": "code",
   "execution_count": 2,
   "metadata": {},
   "outputs": [
    {
     "name": "stdout",
     "output_type": "stream",
     "text": [
      "0.2.0\n"
     ]
    }
   ],
   "source": [
    "from benchmarking.utils.results import _get_package_version\n",
    "\n",
    "print(_get_package_version())"
   ]
  },
  {
   "cell_type": "markdown",
   "metadata": {},
   "source": [
    "## Create Spark Session"
   ]
  },
  {
   "cell_type": "code",
   "execution_count": 2,
   "metadata": {},
   "outputs": [
    {
     "name": "stderr",
     "output_type": "stream",
     "text": [
      "Warning: Ignoring non-Spark config property: neo4j.url\n",
      "Warning: Ignoring non-Spark config property: neo4j.authentication.basic.password\n",
      "Warning: Ignoring non-Spark config property: neo4j.authentication.type\n",
      "Warning: Ignoring non-Spark config property: neo4j.authentication.basic.username\n",
      "Ivy Default Cache set to: /Users/alexandergilmore/.ivy2/cache\n",
      "The jars for the packages stored in: /Users/alexandergilmore/.ivy2/jars\n",
      "org.neo4j#neo4j-connector-apache-spark_2.12 added as a dependency\n",
      ":: resolving dependencies :: org.apache.spark#spark-submit-parent-0310085a-87f5-44a4-89fd-f5d8c6974497;1.0\n",
      "\tconfs: [default]\n"
     ]
    },
    {
     "name": "stdout",
     "output_type": "stream",
     "text": [
      ":: loading settings :: url = jar:file:/Users/alexandergilmore/Documents/projects/neo4j-parallel-spark-loader/.venv/lib/python3.12/site-packages/pyspark/jars/ivy-2.5.1.jar!/org/apache/ivy/core/settings/ivysettings.xml\n"
     ]
    },
    {
     "name": "stderr",
     "output_type": "stream",
     "text": [
      "\tfound org.neo4j#neo4j-connector-apache-spark_2.12;5.1.0_for_spark_3 in central\n",
      "\tfound org.neo4j#neo4j-connector-apache-spark_2.12_common;5.1.0 in central\n",
      "\tfound org.neo4j.driver#neo4j-java-driver;4.4.12 in central\n",
      "\tfound org.reactivestreams#reactive-streams;1.0.4 in local-m2-cache\n",
      "\tfound org.apache.xbean#xbean-asm6-shaded;4.10 in central\n",
      "\tfound org.neo4j#neo4j-cypher-dsl;2022.9.0 in central\n",
      "\tfound org.apiguardian#apiguardian-api;1.1.2 in local-m2-cache\n",
      ":: resolution report :: resolve 155ms :: artifacts dl 5ms\n",
      "\t:: modules in use:\n",
      "\torg.apache.xbean#xbean-asm6-shaded;4.10 from central in [default]\n",
      "\torg.apiguardian#apiguardian-api;1.1.2 from local-m2-cache in [default]\n",
      "\torg.neo4j#neo4j-connector-apache-spark_2.12;5.1.0_for_spark_3 from central in [default]\n",
      "\torg.neo4j#neo4j-connector-apache-spark_2.12_common;5.1.0 from central in [default]\n",
      "\torg.neo4j#neo4j-cypher-dsl;2022.9.0 from central in [default]\n",
      "\torg.neo4j.driver#neo4j-java-driver;4.4.12 from central in [default]\n",
      "\torg.reactivestreams#reactive-streams;1.0.4 from local-m2-cache in [default]\n",
      "\t---------------------------------------------------------------------\n",
      "\t|                  |            modules            ||   artifacts   |\n",
      "\t|       conf       | number| search|dwnlded|evicted|| number|dwnlded|\n",
      "\t---------------------------------------------------------------------\n",
      "\t|      default     |   7   |   0   |   0   |   0   ||   7   |   0   |\n",
      "\t---------------------------------------------------------------------\n",
      ":: retrieving :: org.apache.spark#spark-submit-parent-0310085a-87f5-44a4-89fd-f5d8c6974497\n",
      "\tconfs: [default]\n",
      "\t0 artifacts copied, 7 already retrieved (0kB/4ms)\n",
      "25/01/06 13:40:02 WARN NativeCodeLoader: Unable to load native-hadoop library for your platform... using builtin-java classes where applicable\n",
      "Setting default log level to \"WARN\".\n",
      "To adjust logging level use sc.setLogLevel(newLevel). For SparkR, use setLogLevel(newLevel).\n",
      "25/01/06 13:40:03 WARN Utils: Service 'SparkUI' could not bind on port 4040. Attempting port 4041.\n"
     ]
    }
   ],
   "source": [
    "spark_session: SparkSession = create_spark_session()\n",
    "..."
   ]
  },
  {
   "cell_type": "markdown",
   "metadata": {},
   "source": [
    "## Load Data"
   ]
  },
  {
   "cell_type": "code",
   "execution_count": 14,
   "metadata": {},
   "outputs": [],
   "source": [
    "def load_data_into_spark_dataframe(category: Literal[\"bipartite\", \"monopartite\", \"predefined_components\"]) -> DataFrame:\n",
    "    file_path = \"data/\"+category+\"/\"\n",
    "    csv_name = os.listdir(file_path)[0]\n",
    "\n",
    "    return spark_session.read.option(\"header\", True).csv(file_path+csv_name)"
   ]
  },
  {
   "cell_type": "code",
   "execution_count": 15,
   "metadata": {},
   "outputs": [],
   "source": [
    "bp_sdf = load_data_into_spark_dataframe(\"bipartite\")"
   ]
  },
  {
   "cell_type": "code",
   "execution_count": null,
   "metadata": {},
   "outputs": [],
   "source": [
    "mp_sdf = load_data_into_spark_dataframe(\"monopartite\")"
   ]
  },
  {
   "cell_type": "code",
   "execution_count": null,
   "metadata": {},
   "outputs": [],
   "source": [
    "pc_sdf = load_data_into_spark_dataframe(\"predefined_components\")"
   ]
  },
  {
   "cell_type": "markdown",
   "metadata": {},
   "source": [
    "## Benchmarking"
   ]
  },
  {
   "cell_type": "markdown",
   "metadata": {},
   "source": [
    "### Set Up Tasks"
   ]
  },
  {
   "cell_type": "code",
   "execution_count": 16,
   "metadata": {},
   "outputs": [],
   "source": [
    "ingest_functions = {\n",
    "    \"bipartite\": {\"serial\": load_bipartite_relationships_in_serial, \n",
    "                  \"parallel\": load_bipartite_relationships_in_parallel,\n",
    "                  \"nodes\": load_bipartite_nodes},\n",
    "    \"monopartite\": {\"serial\": load_monopartite_relationships_in_serial, \n",
    "                    \"parallel\": load_monopartite_relationships_in_parallel,\n",
    "                    \"nodes\": load_monopartite_nodes},\n",
    "    \"predefined_components\": {\"serial\": load_bipartite_relationships_in_serial, # using bipartite data\n",
    "                              \"parallel\": load_predefined_components_relationships_in_parallel,\n",
    "                              \"nodes\": load_bipartite_nodes},\n",
    "}"
   ]
  },
  {
   "cell_type": "code",
   "execution_count": null,
   "metadata": {},
   "outputs": [],
   "source": [
    "sample_sizes = [10, 100, 1_000, 10_000, 100_000]\n",
    "sdfs = {0: bp_sdf, 2: mp_sdf, 4: pc_sdf}\n",
    "\n",
    "unsampled_tasks = [\n",
    "{\"graph_structure\": \"bipartite\", \"load_strategy\": \"serial\", \"num_groups\": None},\n",
    "{\"graph_structure\": \"bipartite\", \"load_strategy\": \"parallel\", \"num_groups\": 1},\n",
    "{\"graph_structure\": \"monopartite\", \"load_strategy\": \"serial\",  \"num_groups\": None},\n",
    "{\"graph_structure\": \"monopartite\", \"load_strategy\": \"parallel\", \"num_groups\": 1},\n",
    "{\"graph_structure\": \"predefined_components\", \"load_strategy\": \"serial\",  \"num_groups\": None},\n",
    "{\"graph_structure\": \"predefined_components\", \"load_strategy\": \"parallel\", \"num_groups\": 1},\n",
    "]"
   ]
  },
  {
   "cell_type": "code",
   "execution_count": 17,
   "metadata": {},
   "outputs": [
    {
     "ename": "ImportError",
     "evalue": "cannot import name 'save_dataframe' from 'benchmarking.utils.results' (/Users/alexandergilmore/Documents/projects/neo4j-parallel-spark-loader/benchmarking/utils/results.py)",
     "output_type": "error",
     "traceback": [
      "\u001b[0;31m---------------------------------------------------------------------------\u001b[0m",
      "\u001b[0;31mImportError\u001b[0m                               Traceback (most recent call last)",
      "Cell \u001b[0;32mIn[17], line 1\u001b[0m\n\u001b[0;32m----> 1\u001b[0m \u001b[38;5;28;01mfrom\u001b[39;00m \u001b[38;5;21;01mbenchmarking\u001b[39;00m\u001b[38;5;21;01m.\u001b[39;00m\u001b[38;5;21;01mutils\u001b[39;00m\u001b[38;5;21;01m.\u001b[39;00m\u001b[38;5;21;01mresults\u001b[39;00m \u001b[38;5;28;01mimport\u001b[39;00m create_results_dataframe, append_results_to_dataframe, generate_benchmark_results, save_dataframe\n",
      "\u001b[0;31mImportError\u001b[0m: cannot import name 'save_dataframe' from 'benchmarking.utils.results' (/Users/alexandergilmore/Documents/projects/neo4j-parallel-spark-loader/benchmarking/utils/results.py)"
     ]
    }
   ],
   "source": [
    "from benchmarking.utils.results import create_results_dataframe, append_results_to_dataframe, generate_benchmark_results, save_dataframe"
   ]
  },
  {
   "cell_type": "markdown",
   "metadata": {},
   "source": [
    "### Run Benchmarking"
   ]
  },
  {
   "cell_type": "code",
   "execution_count": 13,
   "metadata": {},
   "outputs": [],
   "source": [
    "results_df = create_results_dataframe()"
   ]
  },
  {
   "cell_type": "code",
   "execution_count": null,
   "metadata": {},
   "outputs": [],
   "source": [
    "counter = 0\n",
    "for idx in range(0, 2, len(unsampled_tasks)):\n",
    "    for s in sample_sizes:\n",
    "        sampled_sdf = sdfs.get(idx).sample(s / 100000.0)\n",
    "\n",
    "        # create constraints\n",
    "        create_constraints(spark_session=spark_session)\n",
    "\n",
    "        graph_structure = unsampled_tasks[idx].get(\"graph_structure\")\n",
    "\n",
    "        # load nodes\n",
    "        fn = ingest_functions.get(graph_structure).get(\"nodes\")\n",
    "        fn(sampled_sdf)\n",
    "\n",
    "        # load relationships\n",
    "        load_strategy = unsampled_tasks[idx].get(\"load_strategy\")\n",
    "        num_groups = unsampled_tasks[idx].get(\"num_groups\")\n",
    "        # idx\n",
    "        results_row = generate_benchmark_results(spark_dataframe=sampled_sdf, \n",
    "                                                 graph_structure=graph_structure, \n",
    "                                                 ingest_function=ingest_functions.get(graph_structure).get(load_strategy),\n",
    "                                                 num_groups=num_groups if load_strategy == \"parallel\" else None)\n",
    "        results_df = append_results_to_dataframe(results_df, results_row)\n",
    "        \n",
    "        save_dataframe(results_df)\n",
    "\n",
    "        # clean up relationships\n",
    "        delete_relationships(spark_session=spark_session)\n",
    "\n",
    "        # idx + 1\n",
    "        load_strategy = unsampled_tasks[idx+1].get(\"load_strategy\")\n",
    "        num_groups = unsampled_tasks[idx+1].get(\"num_groups\")\n",
    "        results_row = generate_benchmark_results(spark_dataframe=sampled_sdf, \n",
    "                                                 graph_structure=graph_structure, \n",
    "                                                 ingest_function=ingest_functions.get(graph_structure).get(load_strategy),\n",
    "                                                 num_groups=num_groups if load_strategy == \"parallel\" else None)\n",
    "        results_df = append_results_to_dataframe(results_df, results_row)\n",
    "\n",
    "        save_dataframe(results_df)\n",
    "\n",
    "        # refresh database\n",
    "        restore_database(spark_session=spark_session)\n",
    "        \n",
    "        counter+=1\n",
    "        print(f\"{round(counter / 30.0, 4) * 100}% Complete\")\n",
    "        \n",
    "        "
   ]
  }
 ],
 "metadata": {
  "kernelspec": {
   "display_name": ".venv",
   "language": "python",
   "name": "python3"
  },
  "language_info": {
   "codemirror_mode": {
    "name": "ipython",
    "version": 3
   },
   "file_extension": ".py",
   "mimetype": "text/x-python",
   "name": "python",
   "nbconvert_exporter": "python",
   "pygments_lexer": "ipython3",
   "version": "3.12.3"
  }
 },
 "nbformat": 4,
 "nbformat_minor": 2
}
