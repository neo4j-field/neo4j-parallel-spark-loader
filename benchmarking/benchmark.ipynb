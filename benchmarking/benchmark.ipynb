{
 "cells": [
  {
   "cell_type": "markdown",
   "metadata": {},
   "source": [
    "# Neo4j Parallel Spark Loader Benchmarking"
   ]
  },
  {
   "cell_type": "markdown",
   "metadata": {},
   "source": [
    "This notebooks evaluates the performance of the `neo4j-parallel-spark-loader` library vs loading serially. "
   ]
  },
  {
   "cell_type": "markdown",
   "metadata": {},
   "source": [
    "## Imports"
   ]
  },
  {
   "cell_type": "code",
   "execution_count": 11,
   "metadata": {},
   "outputs": [],
   "source": [
    "import os\n",
    "from typing import Literal\n",
    "\n",
    "from pyspark.sql import DataFrame, SparkSession\n",
    "\n",
    "from neo4j_parallel_spark_loader import bipartite, monopartite, predefined_components, ingest_spark_dataframe\n",
    "from benchmarking.utils.spark import create_spark_session"
   ]
  },
  {
   "cell_type": "markdown",
   "metadata": {},
   "source": [
    "## Create Spark Session"
   ]
  },
  {
   "cell_type": "code",
   "execution_count": 10,
   "metadata": {},
   "outputs": [],
   "source": [
    "spark_session: SparkSession = create_spark_session()\n",
    "..."
   ]
  },
  {
   "cell_type": "markdown",
   "metadata": {},
   "source": [
    "## Load Data"
   ]
  },
  {
   "cell_type": "code",
   "execution_count": 14,
   "metadata": {},
   "outputs": [],
   "source": [
    "def load_data_into_spark_dataframe(category: Literal[\"bipartite\", \"monopartite\", \"predefined_components\"]) -> DataFrame:\n",
    "    file_path = \"data/\"+category+\"/\"\n",
    "    csv_name = os.listdir(file_path)[0]\n",
    "\n",
    "    return spark_session.read.option(\"header\", True).csv(file_path+csv_name)"
   ]
  },
  {
   "cell_type": "code",
   "execution_count": 15,
   "metadata": {},
   "outputs": [],
   "source": [
    "bp_sdf = load_data_into_spark_dataframe(\"bipartite\")"
   ]
  },
  {
   "cell_type": "code",
   "execution_count": 16,
   "metadata": {},
   "outputs": [
    {
     "name": "stdout",
     "output_type": "stream",
     "text": [
      "+-----------------+-----------------+------+------+\n",
      "|relationship_prop|relationship_type|source|target|\n",
      "+-----------------+-----------------+------+------+\n",
      "|           prop_b|            REL_A|     a|     e|\n",
      "|           prop_d|            REL_C|     b|     d|\n",
      "|           prop_c|            REL_B|     b|     d|\n",
      "|           prop_b|            REL_C|     a|     e|\n",
      "|           prop_c|            REL_B|     c|     d|\n",
      "|           prop_c|            REL_A|     a|     d|\n",
      "|           prop_b|            REL_C|     c|     e|\n",
      "|           prop_a|            REL_C|     b|     d|\n",
      "|           prop_d|            REL_C|     a|     f|\n",
      "|           prop_d|            REL_B|     c|     d|\n",
      "|           prop_c|            REL_C|     c|     f|\n",
      "|           prop_d|            REL_B|     a|     f|\n",
      "|           prop_e|            REL_A|     a|     e|\n",
      "|           prop_b|            REL_A|     b|     f|\n",
      "|           prop_a|            REL_A|     a|     d|\n",
      "|           prop_c|            REL_C|     c|     e|\n",
      "|           prop_a|            REL_B|     a|     e|\n",
      "|           prop_c|            REL_C|     c|     d|\n",
      "|           prop_d|            REL_C|     c|     e|\n",
      "|           prop_b|            REL_B|     b|     d|\n",
      "+-----------------+-----------------+------+------+\n",
      "only showing top 20 rows\n",
      "\n"
     ]
    }
   ],
   "source": [
    "bp_sdf.show()"
   ]
  },
  {
   "cell_type": "code",
   "execution_count": null,
   "metadata": {},
   "outputs": [],
   "source": []
  }
 ],
 "metadata": {
  "kernelspec": {
   "display_name": ".venv",
   "language": "python",
   "name": "python3"
  },
  "language_info": {
   "codemirror_mode": {
    "name": "ipython",
    "version": 3
   },
   "file_extension": ".py",
   "mimetype": "text/x-python",
   "name": "python",
   "nbconvert_exporter": "python",
   "pygments_lexer": "ipython3",
   "version": "3.12.3"
  }
 },
 "nbformat": 4,
 "nbformat_minor": 2
}
